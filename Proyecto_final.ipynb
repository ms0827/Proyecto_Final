{
 "cells": [
  {
   "cell_type": "markdown",
   "metadata": {},
   "source": [
    "## CIENCIA DE DATOS EN PYTHON\n",
    "### PROYECTO FINAL"
   ]
  },
  {
   "cell_type": "markdown",
   "metadata": {},
   "source": [
    "### Presenta: Margerys Salgado"
   ]
  },
  {
   "cell_type": "markdown",
   "metadata": {},
   "source": [
    "### Carnet No.21006394"
   ]
  },
  {
   "cell_type": "markdown",
   "metadata": {},
   "source": [
    "### Estimacion de Modelo"
   ]
  },
  {
   "cell_type": "markdown",
   "metadata": {},
   "source": [
    "Crear modelos predictivos de regresion lineal uni-variable sencillos.  \n",
    "Los datos del proyecto pertenecen al ejemplo clasico y muy conocido al iniciar a estudiar ciencia de datos: prediccion de precios de casas."
   ]
  },
  {
   "cell_type": "markdown",
   "metadata": {},
   "source": [
    "#### Variables"
   ]
  },
  {
   "cell_type": "markdown",
   "metadata": {},
   "source": [
    "-- SalePrice = el precio de venta de la propiedad en dolares. Variable objetivo que se necesita predecir.  \n",
    "\n",
    "-- OverallQual =  calidada de materiales y acabados. Califica el material general y el acabado de la casa.  \n",
    "10 = Very Excellent;  9 = Excellent;  8 = Very Good;  7 = Good;  6 = Above Average;  5 = Average;  4 = Below Average;  3 = Fair;  2 = Poor;  1 = Very Poor  \n",
    "\n",
    "-- FlrSF1st = pies cuadrados del primer piso.  \n",
    "\n",
    "-- TotRmsAbvGrd = total habitaciones (no incluye banos).  \n",
    "\n",
    "-- YearBuilt = anio de construccion.  \n",
    "\n",
    "-- LotFrontage: pies lineales de calle, conectada a la propiedad."
   ]
  },
  {
   "cell_type": "markdown",
   "metadata": {},
   "source": [
    "#### Inciso No.1  \n",
    "Exploracion de los datos"
   ]
  },
  {
   "cell_type": "markdown",
   "metadata": {},
   "source": [
    "#### Librerias"
   ]
  },
  {
   "cell_type": "code",
   "execution_count": 20,
   "metadata": {},
   "outputs": [],
   "source": [
    "import pandas as pd \n",
    "import numpy as np \n",
    "import matplotlib.pyplot as plt \n",
    "import seaborn as seabornInstance\n",
    "\n",
    "from sklearn.model_selection import train_test_split\n",
    "from sklearn import linear_model"
   ]
  },
  {
   "cell_type": "markdown",
   "metadata": {},
   "source": [
    "#### Carga de data"
   ]
  },
  {
   "cell_type": "code",
   "execution_count": 21,
   "metadata": {},
   "outputs": [],
   "source": [
    "import numpy as np\n",
    "data_proy = np.load('proyecto_training_data.npy')"
   ]
  },
  {
   "cell_type": "code",
   "execution_count": 22,
   "metadata": {},
   "outputs": [
    {
     "name": "stdout",
     "output_type": "stream",
     "text": [
      "Dimension de la Data: (1460, 6)\n",
      "Rango de los Datos: 2\n",
      "Tipo de Datos: <class 'numpy.ndarray'>\n"
     ]
    }
   ],
   "source": [
    "print('Dimension de la Data:', data_proy.shape)\n",
    "print('Rango de los Datos:', data_proy.ndim)\n",
    "print('Tipo de Datos:', type(data_proy))"
   ]
  },
  {
   "cell_type": "markdown",
   "metadata": {},
   "source": [
    "#### Revision de la Data"
   ]
  },
  {
   "cell_type": "markdown",
   "metadata": {},
   "source": [
    "#####  * Nombrar Variables"
   ]
  },
  {
   "cell_type": "code",
   "execution_count": 23,
   "metadata": {},
   "outputs": [],
   "source": [
    "data_proy = pd.DataFrame(data_proy, columns=['SalePrice', 'OverallQual', 'FlrSF1st', 'TotRmsAbvGrd', 'YearBuilt', 'LotFrontage'])"
   ]
  },
  {
   "cell_type": "markdown",
   "metadata": {},
   "source": [
    "##### * Reordenar variables"
   ]
  },
  {
   "cell_type": "code",
   "execution_count": 24,
   "metadata": {},
   "outputs": [],
   "source": [
    "data_proy = data_proy[['SalePrice', 'YearBuilt', 'OverallQual', 'FlrSF1st', 'TotRmsAbvGrd', 'LotFrontage']]"
   ]
  },
  {
   "cell_type": "markdown",
   "metadata": {},
   "source": [
    "##### * Revisiones valores NaN"
   ]
  },
  {
   "cell_type": "code",
   "execution_count": 25,
   "metadata": {},
   "outputs": [
    {
     "data": {
      "text/plain": [
       "SalePrice       False\n",
       "YearBuilt       False\n",
       "OverallQual     False\n",
       "FlrSF1st        False\n",
       "TotRmsAbvGrd    False\n",
       "LotFrontage      True\n",
       "dtype: bool"
      ]
     },
     "execution_count": 25,
     "metadata": {},
     "output_type": "execute_result"
    }
   ],
   "source": [
    "data_proy.isnull().any()"
   ]
  },
  {
   "cell_type": "markdown",
   "metadata": {},
   "source": [
    "##### * Eliminar Valores NaN"
   ]
  },
  {
   "cell_type": "code",
   "execution_count": 26,
   "metadata": {},
   "outputs": [
    {
     "data": {
      "text/html": [
       "<div>\n",
       "<style scoped>\n",
       "    .dataframe tbody tr th:only-of-type {\n",
       "        vertical-align: middle;\n",
       "    }\n",
       "\n",
       "    .dataframe tbody tr th {\n",
       "        vertical-align: top;\n",
       "    }\n",
       "\n",
       "    .dataframe thead th {\n",
       "        text-align: right;\n",
       "    }\n",
       "</style>\n",
       "<table border=\"1\" class=\"dataframe\">\n",
       "  <thead>\n",
       "    <tr style=\"text-align: right;\">\n",
       "      <th></th>\n",
       "      <th>SalePrice</th>\n",
       "      <th>YearBuilt</th>\n",
       "      <th>OverallQual</th>\n",
       "      <th>FlrSF1st</th>\n",
       "      <th>TotRmsAbvGrd</th>\n",
       "      <th>LotFrontage</th>\n",
       "    </tr>\n",
       "  </thead>\n",
       "  <tbody>\n",
       "    <tr>\n",
       "      <th>0</th>\n",
       "      <td>208500.0</td>\n",
       "      <td>2003.0</td>\n",
       "      <td>7.0</td>\n",
       "      <td>856.0</td>\n",
       "      <td>8.0</td>\n",
       "      <td>65.0</td>\n",
       "    </tr>\n",
       "    <tr>\n",
       "      <th>1</th>\n",
       "      <td>181500.0</td>\n",
       "      <td>1976.0</td>\n",
       "      <td>6.0</td>\n",
       "      <td>1262.0</td>\n",
       "      <td>6.0</td>\n",
       "      <td>80.0</td>\n",
       "    </tr>\n",
       "    <tr>\n",
       "      <th>2</th>\n",
       "      <td>223500.0</td>\n",
       "      <td>2001.0</td>\n",
       "      <td>7.0</td>\n",
       "      <td>920.0</td>\n",
       "      <td>6.0</td>\n",
       "      <td>68.0</td>\n",
       "    </tr>\n",
       "    <tr>\n",
       "      <th>3</th>\n",
       "      <td>140000.0</td>\n",
       "      <td>1915.0</td>\n",
       "      <td>7.0</td>\n",
       "      <td>961.0</td>\n",
       "      <td>7.0</td>\n",
       "      <td>60.0</td>\n",
       "    </tr>\n",
       "    <tr>\n",
       "      <th>4</th>\n",
       "      <td>250000.0</td>\n",
       "      <td>2000.0</td>\n",
       "      <td>8.0</td>\n",
       "      <td>1145.0</td>\n",
       "      <td>9.0</td>\n",
       "      <td>84.0</td>\n",
       "    </tr>\n",
       "    <tr>\n",
       "      <th>...</th>\n",
       "      <td>...</td>\n",
       "      <td>...</td>\n",
       "      <td>...</td>\n",
       "      <td>...</td>\n",
       "      <td>...</td>\n",
       "      <td>...</td>\n",
       "    </tr>\n",
       "    <tr>\n",
       "      <th>1455</th>\n",
       "      <td>175000.0</td>\n",
       "      <td>1999.0</td>\n",
       "      <td>6.0</td>\n",
       "      <td>953.0</td>\n",
       "      <td>7.0</td>\n",
       "      <td>62.0</td>\n",
       "    </tr>\n",
       "    <tr>\n",
       "      <th>1456</th>\n",
       "      <td>210000.0</td>\n",
       "      <td>1978.0</td>\n",
       "      <td>6.0</td>\n",
       "      <td>2073.0</td>\n",
       "      <td>7.0</td>\n",
       "      <td>85.0</td>\n",
       "    </tr>\n",
       "    <tr>\n",
       "      <th>1457</th>\n",
       "      <td>266500.0</td>\n",
       "      <td>1941.0</td>\n",
       "      <td>7.0</td>\n",
       "      <td>1188.0</td>\n",
       "      <td>9.0</td>\n",
       "      <td>66.0</td>\n",
       "    </tr>\n",
       "    <tr>\n",
       "      <th>1458</th>\n",
       "      <td>142125.0</td>\n",
       "      <td>1950.0</td>\n",
       "      <td>5.0</td>\n",
       "      <td>1078.0</td>\n",
       "      <td>5.0</td>\n",
       "      <td>68.0</td>\n",
       "    </tr>\n",
       "    <tr>\n",
       "      <th>1459</th>\n",
       "      <td>147500.0</td>\n",
       "      <td>1965.0</td>\n",
       "      <td>5.0</td>\n",
       "      <td>1256.0</td>\n",
       "      <td>6.0</td>\n",
       "      <td>75.0</td>\n",
       "    </tr>\n",
       "  </tbody>\n",
       "</table>\n",
       "<p>1460 rows × 6 columns</p>\n",
       "</div>"
      ],
      "text/plain": [
       "      SalePrice  YearBuilt  OverallQual  FlrSF1st  TotRmsAbvGrd  LotFrontage\n",
       "0      208500.0     2003.0          7.0     856.0           8.0         65.0\n",
       "1      181500.0     1976.0          6.0    1262.0           6.0         80.0\n",
       "2      223500.0     2001.0          7.0     920.0           6.0         68.0\n",
       "3      140000.0     1915.0          7.0     961.0           7.0         60.0\n",
       "4      250000.0     2000.0          8.0    1145.0           9.0         84.0\n",
       "...         ...        ...          ...       ...           ...          ...\n",
       "1455   175000.0     1999.0          6.0     953.0           7.0         62.0\n",
       "1456   210000.0     1978.0          6.0    2073.0           7.0         85.0\n",
       "1457   266500.0     1941.0          7.0    1188.0           9.0         66.0\n",
       "1458   142125.0     1950.0          5.0    1078.0           5.0         68.0\n",
       "1459   147500.0     1965.0          5.0    1256.0           6.0         75.0\n",
       "\n",
       "[1460 rows x 6 columns]"
      ]
     },
     "execution_count": 26,
     "metadata": {},
     "output_type": "execute_result"
    }
   ],
   "source": [
    "data_proy = data_proy.fillna(method='ffill')\n",
    "data_proy"
   ]
  },
  {
   "cell_type": "code",
   "execution_count": 27,
   "metadata": {},
   "outputs": [
    {
     "data": {
      "text/plain": [
       "SalePrice       False\n",
       "YearBuilt       False\n",
       "OverallQual     False\n",
       "FlrSF1st        False\n",
       "TotRmsAbvGrd    False\n",
       "LotFrontage     False\n",
       "dtype: bool"
      ]
     },
     "execution_count": 27,
     "metadata": {},
     "output_type": "execute_result"
    }
   ],
   "source": [
    "data_proy.isnull().any()"
   ]
  },
  {
   "cell_type": "markdown",
   "metadata": {},
   "source": [
    "###### * Vista de los Datos"
   ]
  },
  {
   "cell_type": "code",
   "execution_count": 28,
   "metadata": {},
   "outputs": [
    {
     "data": {
      "text/html": [
       "<div>\n",
       "<style scoped>\n",
       "    .dataframe tbody tr th:only-of-type {\n",
       "        vertical-align: middle;\n",
       "    }\n",
       "\n",
       "    .dataframe tbody tr th {\n",
       "        vertical-align: top;\n",
       "    }\n",
       "\n",
       "    .dataframe thead th {\n",
       "        text-align: right;\n",
       "    }\n",
       "</style>\n",
       "<table border=\"1\" class=\"dataframe\">\n",
       "  <thead>\n",
       "    <tr style=\"text-align: right;\">\n",
       "      <th></th>\n",
       "      <th>SalePrice</th>\n",
       "      <th>YearBuilt</th>\n",
       "      <th>OverallQual</th>\n",
       "      <th>FlrSF1st</th>\n",
       "      <th>TotRmsAbvGrd</th>\n",
       "      <th>LotFrontage</th>\n",
       "    </tr>\n",
       "  </thead>\n",
       "  <tbody>\n",
       "    <tr>\n",
       "      <th>0</th>\n",
       "      <td>208500.0</td>\n",
       "      <td>2003.0</td>\n",
       "      <td>7.0</td>\n",
       "      <td>856.0</td>\n",
       "      <td>8.0</td>\n",
       "      <td>65.0</td>\n",
       "    </tr>\n",
       "    <tr>\n",
       "      <th>1</th>\n",
       "      <td>181500.0</td>\n",
       "      <td>1976.0</td>\n",
       "      <td>6.0</td>\n",
       "      <td>1262.0</td>\n",
       "      <td>6.0</td>\n",
       "      <td>80.0</td>\n",
       "    </tr>\n",
       "    <tr>\n",
       "      <th>2</th>\n",
       "      <td>223500.0</td>\n",
       "      <td>2001.0</td>\n",
       "      <td>7.0</td>\n",
       "      <td>920.0</td>\n",
       "      <td>6.0</td>\n",
       "      <td>68.0</td>\n",
       "    </tr>\n",
       "    <tr>\n",
       "      <th>3</th>\n",
       "      <td>140000.0</td>\n",
       "      <td>1915.0</td>\n",
       "      <td>7.0</td>\n",
       "      <td>961.0</td>\n",
       "      <td>7.0</td>\n",
       "      <td>60.0</td>\n",
       "    </tr>\n",
       "    <tr>\n",
       "      <th>4</th>\n",
       "      <td>250000.0</td>\n",
       "      <td>2000.0</td>\n",
       "      <td>8.0</td>\n",
       "      <td>1145.0</td>\n",
       "      <td>9.0</td>\n",
       "      <td>84.0</td>\n",
       "    </tr>\n",
       "  </tbody>\n",
       "</table>\n",
       "</div>"
      ],
      "text/plain": [
       "   SalePrice  YearBuilt  OverallQual  FlrSF1st  TotRmsAbvGrd  LotFrontage\n",
       "0   208500.0     2003.0          7.0     856.0           8.0         65.0\n",
       "1   181500.0     1976.0          6.0    1262.0           6.0         80.0\n",
       "2   223500.0     2001.0          7.0     920.0           6.0         68.0\n",
       "3   140000.0     1915.0          7.0     961.0           7.0         60.0\n",
       "4   250000.0     2000.0          8.0    1145.0           9.0         84.0"
      ]
     },
     "execution_count": 28,
     "metadata": {},
     "output_type": "execute_result"
    }
   ],
   "source": [
    "data_proy.head()"
   ]
  },
  {
   "cell_type": "code",
   "execution_count": 29,
   "metadata": {},
   "outputs": [],
   "source": [
    "#Revision de Relaciones\n",
    "#sns.pairplot(data_proy)"
   ]
  },
  {
   "cell_type": "markdown",
   "metadata": {},
   "source": [
    "#### Inciso No.2  \n",
    "Usando sclicing con NumPy separar los datos en 2 datasets: entrenamiento(80 %) y validacion y pruebas(20 %)"
   ]
  },
  {
   "cell_type": "markdown",
   "metadata": {},
   "source": [
    "#### Separacion de la data"
   ]
  },
  {
   "cell_type": "code",
   "execution_count": 30,
   "metadata": {},
   "outputs": [
    {
     "data": {
      "text/plain": [
       "array([[208500.],\n",
       "       [181500.],\n",
       "       [223500.],\n",
       "       ...,\n",
       "       [266500.],\n",
       "       [142125.],\n",
       "       [147500.]])"
      ]
     },
     "execution_count": 30,
     "metadata": {},
     "output_type": "execute_result"
    }
   ],
   "source": [
    "Y = data_proy['SalePrice'].values.reshape(-1, 1)\n",
    "Y"
   ]
  },
  {
   "cell_type": "code",
   "execution_count": 31,
   "metadata": {},
   "outputs": [
    {
     "data": {
      "text/plain": [
       "array([[2003.,    7.,  856.,    8.,   65.],\n",
       "       [1976.,    6., 1262.,    6.,   80.],\n",
       "       [2001.,    7.,  920.,    6.,   68.],\n",
       "       ...,\n",
       "       [1941.,    7., 1188.,    9.,   66.],\n",
       "       [1950.,    5., 1078.,    5.,   68.],\n",
       "       [1965.,    5., 1256.,    6.,   75.]])"
      ]
     },
     "execution_count": 31,
     "metadata": {},
     "output_type": "execute_result"
    }
   ],
   "source": [
    "X = data_proy.iloc[:, 1:6].values\n",
    "X"
   ]
  },
  {
   "cell_type": "markdown",
   "metadata": {},
   "source": [
    "#### Set de entrenamiento"
   ]
  },
  {
   "cell_type": "code",
   "execution_count": 32,
   "metadata": {},
   "outputs": [],
   "source": [
    "from sklearn.model_selection import train_test_split\n",
    "dataTrain, dataTest, dataTrain_SaleP, dataTest_SaleP = train_test_split(X, Y, test_size = 0.2, shuffle=True, random_state=123)"
   ]
  },
  {
   "cell_type": "code",
   "execution_count": 33,
   "metadata": {},
   "outputs": [
    {
     "data": {
      "text/plain": [
       "array([[1993.,    7., 1372.,    9.,   90.],\n",
       "       [1960.,    6., 1429.,    7.,   81.],\n",
       "       [1977.,    6., 1542.,   11.,   50.],\n",
       "       ...,\n",
       "       [1968.,    7., 2156.,    9.,   50.],\n",
       "       [1972.,    5.,  768.,    5.,   70.],\n",
       "       [1941.,    6.,  869.,    6.,   60.]])"
      ]
     },
     "execution_count": 33,
     "metadata": {},
     "output_type": "execute_result"
    }
   ],
   "source": [
    "dataTrain"
   ]
  },
  {
   "cell_type": "code",
   "execution_count": 34,
   "metadata": {},
   "outputs": [
    {
     "data": {
      "text/plain": [
       "array([[260000.],\n",
       "       [181900.],\n",
       "       [272000.],\n",
       "       ...,\n",
       "       [262500.],\n",
       "       [133000.],\n",
       "       [131000.]])"
      ]
     },
     "execution_count": 34,
     "metadata": {},
     "output_type": "execute_result"
    }
   ],
   "source": [
    "dataTrain_SaleP"
   ]
  },
  {
   "cell_type": "markdown",
   "metadata": {},
   "source": [
    "#### Set de validacion y pruebas"
   ]
  },
  {
   "cell_type": "code",
   "execution_count": 35,
   "metadata": {},
   "outputs": [
    {
     "data": {
      "text/plain": [
       "array([[2001.,    7.,  884.,    8.,   51.],\n",
       "       [1900.,    4., 1095.,    8.,   60.],\n",
       "       [2004.,    7.,  976.,    7.,   32.],\n",
       "       ...,\n",
       "       [1949.,    5.,  672.,    6.,   60.],\n",
       "       [1969.,    5., 1040.,    9.,   70.],\n",
       "       [1941.,    5.,  616.,    5.,   60.]])"
      ]
     },
     "execution_count": 35,
     "metadata": {},
     "output_type": "execute_result"
    }
   ],
   "source": [
    "dataTest"
   ]
  },
  {
   "cell_type": "code",
   "execution_count": 36,
   "metadata": {},
   "outputs": [
    {
     "data": {
      "text/plain": [
       "array([[222500.],\n",
       "       [ 87000.],\n",
       "       [130000.],\n",
       "       [274300.],\n",
       "       [140000.],\n",
       "       [259000.],\n",
       "       [309000.],\n",
       "       [127500.],\n",
       "       [155000.],\n",
       "       [147000.],\n",
       "       [159000.],\n",
       "       [220000.],\n",
       "       [140000.],\n",
       "       [108000.],\n",
       "       [260000.],\n",
       "       [207500.],\n",
       "       [115000.],\n",
       "       [325624.],\n",
       "       [212000.],\n",
       "       [167900.],\n",
       "       [151000.],\n",
       "       [162900.],\n",
       "       [109500.],\n",
       "       [143000.],\n",
       "       [230000.],\n",
       "       [145000.],\n",
       "       [208900.],\n",
       "       [181000.],\n",
       "       [129900.],\n",
       "       [107000.],\n",
       "       [149350.],\n",
       "       [182000.],\n",
       "       [143000.],\n",
       "       [198900.],\n",
       "       [367294.],\n",
       "       [190000.],\n",
       "       [173000.],\n",
       "       [475000.],\n",
       "       [176500.],\n",
       "       [101000.],\n",
       "       [144000.],\n",
       "       [174000.],\n",
       "       [215000.],\n",
       "       [165000.],\n",
       "       [215000.],\n",
       "       [135750.],\n",
       "       [311872.],\n",
       "       [248000.],\n",
       "       [239900.],\n",
       "       [116000.],\n",
       "       [200000.],\n",
       "       [196000.],\n",
       "       [140000.],\n",
       "       [143000.],\n",
       "       [ 89500.],\n",
       "       [153000.],\n",
       "       [144000.],\n",
       "       [168000.],\n",
       "       [228000.],\n",
       "       [360000.],\n",
       "       [108000.],\n",
       "       [345000.],\n",
       "       [122000.],\n",
       "       [167000.],\n",
       "       [244000.],\n",
       "       [140000.],\n",
       "       [120000.],\n",
       "       [279500.],\n",
       "       [232600.],\n",
       "       [140000.],\n",
       "       [135000.],\n",
       "       [129000.],\n",
       "       [171900.],\n",
       "       [250000.],\n",
       "       [169500.],\n",
       "       [140000.],\n",
       "       [183200.],\n",
       "       [140000.],\n",
       "       [210000.],\n",
       "       [133000.],\n",
       "       [313000.],\n",
       "       [284000.],\n",
       "       [ 85500.],\n",
       "       [125000.],\n",
       "       [168000.],\n",
       "       [140000.],\n",
       "       [ 98000.],\n",
       "       [129000.],\n",
       "       [ 52500.],\n",
       "       [302000.],\n",
       "       [127500.],\n",
       "       [181000.],\n",
       "       [178000.],\n",
       "       [163000.],\n",
       "       [153337.],\n",
       "       [119500.],\n",
       "       [244400.],\n",
       "       [109500.],\n",
       "       [219210.],\n",
       "       [133500.],\n",
       "       [104900.],\n",
       "       [582933.],\n",
       "       [342643.],\n",
       "       [148000.],\n",
       "       [207500.],\n",
       "       [115000.],\n",
       "       [129000.],\n",
       "       [190000.],\n",
       "       [177500.],\n",
       "       [318000.],\n",
       "       [280000.],\n",
       "       [242000.],\n",
       "       [113000.],\n",
       "       [252000.],\n",
       "       [194700.],\n",
       "       [145000.],\n",
       "       [176000.],\n",
       "       [412500.],\n",
       "       [110000.],\n",
       "       [151000.],\n",
       "       [165500.],\n",
       "       [187500.],\n",
       "       [185850.],\n",
       "       [115000.],\n",
       "       [286000.],\n",
       "       [248900.],\n",
       "       [130000.],\n",
       "       [105500.],\n",
       "       [173733.],\n",
       "       [315750.],\n",
       "       [105000.],\n",
       "       [370878.],\n",
       "       [335000.],\n",
       "       [185000.],\n",
       "       [311500.],\n",
       "       [176000.],\n",
       "       [335000.],\n",
       "       [119000.],\n",
       "       [154000.],\n",
       "       [123500.],\n",
       "       [ 79900.],\n",
       "       [239000.],\n",
       "       [240000.],\n",
       "       [142500.],\n",
       "       [224000.],\n",
       "       [277000.],\n",
       "       [205000.],\n",
       "       [160000.],\n",
       "       [175000.],\n",
       "       [144000.],\n",
       "       [175000.],\n",
       "       [100000.],\n",
       "       [556581.],\n",
       "       [183900.],\n",
       "       [262000.],\n",
       "       [165500.],\n",
       "       [236500.],\n",
       "       [139000.],\n",
       "       [128500.],\n",
       "       [135960.],\n",
       "       [625000.],\n",
       "       [223000.],\n",
       "       [200624.],\n",
       "       [144000.],\n",
       "       [230000.],\n",
       "       [ 98000.],\n",
       "       [155000.],\n",
       "       [141500.],\n",
       "       [176432.],\n",
       "       [125000.],\n",
       "       [137000.],\n",
       "       [135000.],\n",
       "       [225000.],\n",
       "       [175900.],\n",
       "       [122000.],\n",
       "       [281000.],\n",
       "       [179200.],\n",
       "       [119000.],\n",
       "       [187750.],\n",
       "       [221500.],\n",
       "       [173000.],\n",
       "       [148000.],\n",
       "       [142000.],\n",
       "       [150000.],\n",
       "       [161500.],\n",
       "       [128200.],\n",
       "       [135000.],\n",
       "       [202665.],\n",
       "       [179900.],\n",
       "       [175500.],\n",
       "       [128000.],\n",
       "       [135000.],\n",
       "       [183000.],\n",
       "       [260000.],\n",
       "       [130000.],\n",
       "       [290000.],\n",
       "       [147000.],\n",
       "       [110000.],\n",
       "       [205000.],\n",
       "       [119000.],\n",
       "       [165400.],\n",
       "       [301500.],\n",
       "       [177000.],\n",
       "       [276000.],\n",
       "       [172000.],\n",
       "       [134500.],\n",
       "       [100000.],\n",
       "       [303477.],\n",
       "       [175000.],\n",
       "       [210000.],\n",
       "       [178000.],\n",
       "       [315000.],\n",
       "       [133000.],\n",
       "       [151000.],\n",
       "       [147000.],\n",
       "       [187500.],\n",
       "       [197900.],\n",
       "       [133000.],\n",
       "       [130250.],\n",
       "       [106500.],\n",
       "       [173000.],\n",
       "       [ 79000.],\n",
       "       [135000.],\n",
       "       [100000.],\n",
       "       [118000.],\n",
       "       [124000.],\n",
       "       [165600.],\n",
       "       [ 79900.],\n",
       "       [148000.],\n",
       "       [118858.],\n",
       "       [125000.],\n",
       "       [149000.],\n",
       "       [171000.],\n",
       "       [119000.],\n",
       "       [119500.],\n",
       "       [168500.],\n",
       "       [230000.],\n",
       "       [119200.],\n",
       "       [174000.],\n",
       "       [ 80000.],\n",
       "       [275000.],\n",
       "       [237000.],\n",
       "       [191000.],\n",
       "       [200000.],\n",
       "       [ 94750.],\n",
       "       [287000.],\n",
       "       [106000.],\n",
       "       [271000.],\n",
       "       [143000.],\n",
       "       [230000.],\n",
       "       [232000.],\n",
       "       [121600.],\n",
       "       [216000.],\n",
       "       [ 88000.],\n",
       "       [163990.],\n",
       "       [221000.],\n",
       "       [319900.],\n",
       "       [196000.],\n",
       "       [143500.],\n",
       "       [120000.],\n",
       "       [231500.],\n",
       "       [213490.],\n",
       "       [197500.],\n",
       "       [190000.],\n",
       "       [175000.],\n",
       "       [136900.],\n",
       "       [137900.],\n",
       "       [205950.],\n",
       "       [ 37900.],\n",
       "       [ 82500.],\n",
       "       [128000.],\n",
       "       [ 80000.],\n",
       "       [213000.],\n",
       "       [103200.],\n",
       "       [266000.],\n",
       "       [165500.],\n",
       "       [192000.],\n",
       "       [222000.],\n",
       "       [160000.],\n",
       "       [109008.],\n",
       "       [133000.],\n",
       "       [156000.],\n",
       "       [ 98300.],\n",
       "       [136500.],\n",
       "       [168500.],\n",
       "       [105000.],\n",
       "       [181000.],\n",
       "       [165000.],\n",
       "       [220000.],\n",
       "       [122900.],\n",
       "       [135000.],\n",
       "       [ 95000.]])"
      ]
     },
     "execution_count": 36,
     "metadata": {},
     "output_type": "execute_result"
    }
   ],
   "source": [
    "dataTest_SaleP"
   ]
  },
  {
   "cell_type": "markdown",
   "metadata": {},
   "source": [
    "#### Inciso No.3"
   ]
  },
  {
   "cell_type": "markdown",
   "metadata": {},
   "source": [
    "#### Analisis Exploratorio de los datos  \n",
    "Analisis exploratorio de datos: Para cada variable en el dataset calcular((usando numpy o pandas): media, valor maximo, valor minimo, rango y desviacion estandar.\n"
   ]
  },
  {
   "cell_type": "code",
   "execution_count": 37,
   "metadata": {},
   "outputs": [
    {
     "data": {
      "text/html": [
       "<div>\n",
       "<style scoped>\n",
       "    .dataframe tbody tr th:only-of-type {\n",
       "        vertical-align: middle;\n",
       "    }\n",
       "\n",
       "    .dataframe tbody tr th {\n",
       "        vertical-align: top;\n",
       "    }\n",
       "\n",
       "    .dataframe thead th {\n",
       "        text-align: right;\n",
       "    }\n",
       "</style>\n",
       "<table border=\"1\" class=\"dataframe\">\n",
       "  <thead>\n",
       "    <tr style=\"text-align: right;\">\n",
       "      <th></th>\n",
       "      <th>SalePrice</th>\n",
       "      <th>YearBuilt</th>\n",
       "      <th>OverallQual</th>\n",
       "      <th>FlrSF1st</th>\n",
       "      <th>TotRmsAbvGrd</th>\n",
       "      <th>LotFrontage</th>\n",
       "    </tr>\n",
       "  </thead>\n",
       "  <tbody>\n",
       "    <tr>\n",
       "      <th>count</th>\n",
       "      <td>1460.000000</td>\n",
       "      <td>1460.000000</td>\n",
       "      <td>1460.000000</td>\n",
       "      <td>1460.000000</td>\n",
       "      <td>1460.000000</td>\n",
       "      <td>1460.000000</td>\n",
       "    </tr>\n",
       "    <tr>\n",
       "      <th>mean</th>\n",
       "      <td>180921.195890</td>\n",
       "      <td>1971.267808</td>\n",
       "      <td>6.099315</td>\n",
       "      <td>1162.626712</td>\n",
       "      <td>6.517808</td>\n",
       "      <td>70.104795</td>\n",
       "    </tr>\n",
       "    <tr>\n",
       "      <th>std</th>\n",
       "      <td>79442.502883</td>\n",
       "      <td>30.202904</td>\n",
       "      <td>1.382997</td>\n",
       "      <td>386.587738</td>\n",
       "      <td>1.625393</td>\n",
       "      <td>23.846996</td>\n",
       "    </tr>\n",
       "    <tr>\n",
       "      <th>min</th>\n",
       "      <td>34900.000000</td>\n",
       "      <td>1872.000000</td>\n",
       "      <td>1.000000</td>\n",
       "      <td>334.000000</td>\n",
       "      <td>2.000000</td>\n",
       "      <td>21.000000</td>\n",
       "    </tr>\n",
       "    <tr>\n",
       "      <th>25%</th>\n",
       "      <td>129975.000000</td>\n",
       "      <td>1954.000000</td>\n",
       "      <td>5.000000</td>\n",
       "      <td>882.000000</td>\n",
       "      <td>5.000000</td>\n",
       "      <td>59.000000</td>\n",
       "    </tr>\n",
       "    <tr>\n",
       "      <th>50%</th>\n",
       "      <td>163000.000000</td>\n",
       "      <td>1973.000000</td>\n",
       "      <td>6.000000</td>\n",
       "      <td>1087.000000</td>\n",
       "      <td>6.000000</td>\n",
       "      <td>70.000000</td>\n",
       "    </tr>\n",
       "    <tr>\n",
       "      <th>75%</th>\n",
       "      <td>214000.000000</td>\n",
       "      <td>2000.000000</td>\n",
       "      <td>7.000000</td>\n",
       "      <td>1391.250000</td>\n",
       "      <td>7.000000</td>\n",
       "      <td>80.000000</td>\n",
       "    </tr>\n",
       "    <tr>\n",
       "      <th>max</th>\n",
       "      <td>755000.000000</td>\n",
       "      <td>2010.000000</td>\n",
       "      <td>10.000000</td>\n",
       "      <td>4692.000000</td>\n",
       "      <td>14.000000</td>\n",
       "      <td>313.000000</td>\n",
       "    </tr>\n",
       "  </tbody>\n",
       "</table>\n",
       "</div>"
      ],
      "text/plain": [
       "           SalePrice    YearBuilt  OverallQual     FlrSF1st  TotRmsAbvGrd  \\\n",
       "count    1460.000000  1460.000000  1460.000000  1460.000000   1460.000000   \n",
       "mean   180921.195890  1971.267808     6.099315  1162.626712      6.517808   \n",
       "std     79442.502883    30.202904     1.382997   386.587738      1.625393   \n",
       "min     34900.000000  1872.000000     1.000000   334.000000      2.000000   \n",
       "25%    129975.000000  1954.000000     5.000000   882.000000      5.000000   \n",
       "50%    163000.000000  1973.000000     6.000000  1087.000000      6.000000   \n",
       "75%    214000.000000  2000.000000     7.000000  1391.250000      7.000000   \n",
       "max    755000.000000  2010.000000    10.000000  4692.000000     14.000000   \n",
       "\n",
       "       LotFrontage  \n",
       "count  1460.000000  \n",
       "mean     70.104795  \n",
       "std      23.846996  \n",
       "min      21.000000  \n",
       "25%      59.000000  \n",
       "50%      70.000000  \n",
       "75%      80.000000  \n",
       "max     313.000000  "
      ]
     },
     "execution_count": 37,
     "metadata": {},
     "output_type": "execute_result"
    }
   ],
   "source": [
    "# Informacion estadistica de la data\n",
    "data_proy.describe()"
   ]
  },
  {
   "cell_type": "markdown",
   "metadata": {},
   "source": [
    "##### Variable 1 = SalePrice"
   ]
  },
  {
   "cell_type": "code",
   "execution_count": 38,
   "metadata": {},
   "outputs": [
    {
     "name": "stdout",
     "output_type": "stream",
     "text": [
      "Media SalePrice: 180921.19589041095\n",
      "Desviacion Estandar SalePrice: 79442.50288288663\n",
      "Valor Minimo SalePrice: 34900.0\n",
      "Valor Maximo SalePrice: 755000.0\n",
      "Rango SalePrice: 720100.0\n"
     ]
    }
   ],
   "source": [
    "print('Media SalePrice:', data_proy[\"SalePrice\"].mean())\n",
    "print('Desviacion Estandar SalePrice:', data_proy[\"SalePrice\"].std(ddof=1))\n",
    "print('Valor Minimo SalePrice:', data_proy[\"SalePrice\"].min())\n",
    "print('Valor Maximo SalePrice:', data_proy[\"SalePrice\"].max())\n",
    "print('Rango SalePrice:', data_proy[\"SalePrice\"].max() - data_proy[\"SalePrice\"].min())"
   ]
  },
  {
   "cell_type": "code",
   "execution_count": 39,
   "metadata": {},
   "outputs": [],
   "source": [
    "#Comprobacion\n",
    "#data_proy.describe()['SalePrice']"
   ]
  },
  {
   "cell_type": "markdown",
   "metadata": {},
   "source": [
    "##### Variable 2 = YearBuilt"
   ]
  },
  {
   "cell_type": "code",
   "execution_count": 40,
   "metadata": {},
   "outputs": [
    {
     "name": "stdout",
     "output_type": "stream",
     "text": [
      "Media YearBuilt: 1971.267808219178\n",
      "Desviacion Estandar YearBuilt: 30.202904042525265\n",
      "Valor Minimo YearBuilt: 1872.0\n",
      "Valor Maximo YearBuilt: 2010.0\n",
      "Rango YearBuilt: 138.0\n"
     ]
    }
   ],
   "source": [
    "print('Media YearBuilt:', data_proy[\"YearBuilt\"].mean())\n",
    "print('Desviacion Estandar YearBuilt:', data_proy[\"YearBuilt\"].std(ddof=1))\n",
    "print('Valor Minimo YearBuilt:', data_proy[\"YearBuilt\"].min())\n",
    "print('Valor Maximo YearBuilt:', data_proy[\"YearBuilt\"].max())\n",
    "print('Rango YearBuilt:', data_proy[\"YearBuilt\"].max() - data_proy[\"YearBuilt\"].min())"
   ]
  },
  {
   "cell_type": "code",
   "execution_count": 41,
   "metadata": {},
   "outputs": [],
   "source": [
    "#Comprobacion\n",
    "#data_proy.describe()['YearBuilt']"
   ]
  },
  {
   "cell_type": "markdown",
   "metadata": {},
   "source": [
    "##### Variable 3 = OverallQual"
   ]
  },
  {
   "cell_type": "code",
   "execution_count": 42,
   "metadata": {},
   "outputs": [
    {
     "name": "stdout",
     "output_type": "stream",
     "text": [
      "Media OverallQual: 6.0993150684931505\n",
      "Desviacion Estandar: 1.3829965467415923\n",
      "Valor Minimo OverallQual: 1.0\n",
      "Valor Maximo OverallQual: 10.0\n",
      "Rango OverallQual: 9.0\n"
     ]
    }
   ],
   "source": [
    "print('Media OverallQual:', data_proy[\"OverallQual\"].mean())\n",
    "print('Desviacion Estandar:', data_proy[\"OverallQual\"].std(ddof=1))\n",
    "print('Valor Minimo OverallQual:', data_proy[\"OverallQual\"].min())\n",
    "print('Valor Maximo OverallQual:', data_proy[\"OverallQual\"].max())\n",
    "print('Rango OverallQual:', data_proy[\"OverallQual\"].max() - data_proy[\"OverallQual\"].min())"
   ]
  },
  {
   "cell_type": "code",
   "execution_count": 43,
   "metadata": {},
   "outputs": [],
   "source": [
    "#Comprobacion\n",
    "#data_proy.describe()['OverallQual']"
   ]
  },
  {
   "cell_type": "markdown",
   "metadata": {},
   "source": [
    "##### Variable 4 = FlrSF1st"
   ]
  },
  {
   "cell_type": "code",
   "execution_count": 44,
   "metadata": {},
   "outputs": [
    {
     "name": "stdout",
     "output_type": "stream",
     "text": [
      "Media FlrSF1st: 1162.626712328767\n",
      "Desviacion Estandar: 386.5877380410738\n",
      "Valor Minimo FlrSF1st: 334.0\n",
      "Valor Maximo FlrSF1st: 4692.0\n",
      "Rango FlrSF1st: 4358.0\n"
     ]
    }
   ],
   "source": [
    "print('Media FlrSF1st:', data_proy[\"FlrSF1st\"].mean())\n",
    "print('Desviacion Estandar:', data_proy[\"FlrSF1st\"].std(ddof=1))\n",
    "print('Valor Minimo FlrSF1st:', data_proy[\"FlrSF1st\"].min())\n",
    "print('Valor Maximo FlrSF1st:', data_proy[\"FlrSF1st\"].max())\n",
    "print('Rango FlrSF1st:', data_proy[\"FlrSF1st\"].max() - data_proy[\"FlrSF1st\"].min())"
   ]
  },
  {
   "cell_type": "code",
   "execution_count": 45,
   "metadata": {},
   "outputs": [],
   "source": [
    "#Comprobacion\n",
    "#data_proy.describe()['FlrSF1st']"
   ]
  },
  {
   "cell_type": "markdown",
   "metadata": {},
   "source": [
    "##### Variable 5 = TotRmsAbvGrd"
   ]
  },
  {
   "cell_type": "code",
   "execution_count": 46,
   "metadata": {},
   "outputs": [
    {
     "name": "stdout",
     "output_type": "stream",
     "text": [
      "Media TotRmsAbvGrd: 6.517808219178082\n",
      "Desviacion Estandar TotRmsAbvGrd: 1.625393290584064\n",
      "Valor Minimo TotRmsAbvGrd: 2.0\n",
      "Valor Maximo TotRmsAbvGrd: 14.0\n",
      "Rango: 12.0\n"
     ]
    }
   ],
   "source": [
    "print('Media TotRmsAbvGrd:', data_proy[\"TotRmsAbvGrd\"].mean())\n",
    "print('Desviacion Estandar TotRmsAbvGrd:', data_proy[\"TotRmsAbvGrd\"].std(ddof=1))\n",
    "print('Valor Minimo TotRmsAbvGrd:', data_proy[\"TotRmsAbvGrd\"].min())\n",
    "print('Valor Maximo TotRmsAbvGrd:', data_proy[\"TotRmsAbvGrd\"].max())\n",
    "print('Rango:', data_proy[\"TotRmsAbvGrd\"].max() - data_proy[\"TotRmsAbvGrd\"].min())"
   ]
  },
  {
   "cell_type": "code",
   "execution_count": 47,
   "metadata": {},
   "outputs": [],
   "source": [
    "# Comprobacion\n",
    "#data_proy.describe()['TotRmsAbvGrd']"
   ]
  },
  {
   "cell_type": "markdown",
   "metadata": {},
   "source": [
    "##### Variable 6 = LotFrontage"
   ]
  },
  {
   "cell_type": "code",
   "execution_count": 48,
   "metadata": {},
   "outputs": [
    {
     "name": "stdout",
     "output_type": "stream",
     "text": [
      "Media LotFrontage: 70.10479452054794\n",
      "Desviacion Estandar: 23.846995813891137\n",
      "Valor Minimo LotFrontage: 21.0\n",
      "Valor Maximo LotFrontage: 313.0\n",
      "Rango: 292.0\n"
     ]
    }
   ],
   "source": [
    "print('Media LotFrontage:', data_proy[\"LotFrontage\"].mean())\n",
    "print('Desviacion Estandar:', data_proy[\"LotFrontage\"].std(ddof=1))\n",
    "print('Valor Minimo LotFrontage:', data_proy[\"LotFrontage\"].min())\n",
    "print('Valor Maximo LotFrontage:', data_proy[\"LotFrontage\"].max())\n",
    "print('Rango:', data_proy[\"LotFrontage\"].max() - data_proy[\"LotFrontage\"].min())"
   ]
  },
  {
   "cell_type": "code",
   "execution_count": 49,
   "metadata": {},
   "outputs": [],
   "source": [
    "# Comprobacion\n",
    "#data_proy.describe()['LotFrontage']"
   ]
  },
  {
   "cell_type": "markdown",
   "metadata": {},
   "source": [
    "#### Inciso No.4  \n",
    "Para cada variable en el dataset usar seaborn para graficar un histograma de la variable.\n",
    "1) SalePrice  \n",
    "2) YearBuilt  \n",
    "3) OverallQual  \n",
    "4) FlrSF1st  \n",
    "5) TotRmsAbvGrd  \n",
    "6) LotFrontage"
   ]
  },
  {
   "cell_type": "markdown",
   "metadata": {},
   "source": [
    "#### Generacion de Histogramas  "
   ]
  },
  {
   "cell_type": "code",
   "execution_count": 50,
   "metadata": {},
   "outputs": [],
   "source": [
    "import seaborn as sns\n",
    "import matplotlib.pyplot as plt"
   ]
  },
  {
   "cell_type": "markdown",
   "metadata": {},
   "source": [
    "##### Variable SalePrice"
   ]
  },
  {
   "cell_type": "code",
   "execution_count": 51,
   "metadata": {},
   "outputs": [
    {
     "data": {
      "text/plain": [
       "<AxesSubplot:xlabel='SalePrice', ylabel='Count'>"
      ]
     },
     "execution_count": 51,
     "metadata": {},
     "output_type": "execute_result"
    },
    {
     "data": {
      "image/png": "[encoded data removed]",
      "text/plain": [
       "<Figure size 432x288 with 1 Axes>"
      ]
     },
     "metadata": {
      "needs_background": "light"
     },
     "output_type": "display_data"
    }
   ],
   "source": [
    "sns.histplot(data = data_proy[\"SalePrice\"], x = data_proy[\"SalePrice\"], kde=True, color=\"gray\")"
   ]
  },
  {
   "cell_type": "markdown",
   "metadata": {},
   "source": [
    "##### Variable YearBuilt"
   ]
  },
  {
   "cell_type": "code",
   "execution_count": 52,
   "metadata": {},
   "outputs": [
    {
     "data": {
      "text/plain": [
       "<AxesSubplot:xlabel='YearBuilt', ylabel='Count'>"
      ]
     },
     "execution_count": 52,
     "metadata": {},
     "output_type": "execute_result"
    },
    {
     "data": {
      "image/png": "[encoded data removed]",
      "text/plain": [
       "<Figure size 432x288 with 1 Axes>"
      ]
     },
     "metadata": {
      "needs_background": "light"
     },
     "output_type": "display_data"
    }
   ],
   "source": [
    "sns.histplot(data = data_proy[\"YearBuilt\"], x = data_proy[\"YearBuilt\"], kde=True, color=\"gray\")"
   ]
  },
  {
   "cell_type": "markdown",
   "metadata": {},
   "source": [
    "##### Variable OverallQual"
   ]
  },
  {
   "cell_type": "code",
   "execution_count": 53,
   "metadata": {},
   "outputs": [
    {
     "data": {
      "text/plain": [
       "<AxesSubplot:xlabel='OverallQual', ylabel='Count'>"
      ]
     },
     "execution_count": 53,
     "metadata": {},
     "output_type": "execute_result"
    },
    {
     "data": {
      "image/png": "[encoded data removed]",
      "text/plain": [
       "<Figure size 432x288 with 1 Axes>"
      ]
     },
     "metadata": {
      "needs_background": "light"
     },
     "output_type": "display_data"
    }
   ],
   "source": [
    "sns.histplot(data = data_proy[\"OverallQual\"], x = data_proy[\"OverallQual\"], kde=True, color=\"gray\")"
   ]
  },
  {
   "cell_type": "markdown",
   "metadata": {},
   "source": [
    "##### Variable FlrSF1st"
   ]
  },
  {
   "cell_type": "code",
   "execution_count": 54,
   "metadata": {},
   "outputs": [
    {
     "data": {
      "text/plain": [
       "<AxesSubplot:xlabel='FlrSF1st', ylabel='Count'>"
      ]
     },
     "execution_count": 54,
     "metadata": {},
     "output_type": "execute_result"
    },
    {
     "data": {
      "image/png": "[encoded data removed]",
      "text/plain": [
       "<Figure size 432x288 with 1 Axes>"
      ]
     },
     "metadata": {
      "needs_background": "light"
     },
     "output_type": "display_data"
    }
   ],
   "source": [
    "sns.histplot(data = data_proy[\"FlrSF1st\"], x = data_proy[\"FlrSF1st\"], kde=True, color=\"gray\")"
   ]
  },
  {
   "cell_type": "markdown",
   "metadata": {},
   "source": [
    "##### Variable TotRmsAbvGrd"
   ]
  },
  {
   "cell_type": "code",
   "execution_count": 55,
   "metadata": {},
   "outputs": [
    {
     "data": {
      "text/plain": [
       "<AxesSubplot:xlabel='TotRmsAbvGrd', ylabel='Count'>"
      ]
     },
     "execution_count": 55,
     "metadata": {},
     "output_type": "execute_result"
    },
    {
     "data": {
      "image/png": "[encoded data removed]",
      "text/plain": [
       "<Figure size 432x288 with 1 Axes>"
      ]
     },
     "metadata": {
      "needs_background": "light"
     },
     "output_type": "display_data"
    }
   ],
   "source": [
    "sns.histplot(data = data_proy[\"TotRmsAbvGrd\"], x = data_proy[\"TotRmsAbvGrd\"], kde=True, color=\"gray\")"
   ]
  },
  {
   "cell_type": "markdown",
   "metadata": {},
   "source": [
    "##### Variable LotFrontage"
   ]
  },
  {
   "cell_type": "code",
   "execution_count": 56,
   "metadata": {},
   "outputs": [
    {
     "data": {
      "text/plain": [
       "<AxesSubplot:xlabel='LotFrontage', ylabel='Count'>"
      ]
     },
     "execution_count": 56,
     "metadata": {},
     "output_type": "execute_result"
    },
    {
     "data": {
      "image/png": "[encoded data removed]",
      "text/plain": [
       "<Figure size 432x288 with 1 Axes>"
      ]
     },
     "metadata": {
      "needs_background": "light"
     },
     "output_type": "display_data"
    }
   ],
   "source": [
    "sns.histplot(data = data_proy[\"LotFrontage\"], x = data_proy[\"LotFrontage\"], kde=True, color=\"gray\")"
   ]
  },
  {
   "cell_type": "markdown",
   "metadata": {},
   "source": [
    "#### Inciso No.5 Analisis de Correlacion  \n",
    "Para cada variable independiente X :\n",
    "\n",
    "1) Calcular el coeficiente de correlacion entre X y Y,  \n",
    "2) Graficar X vs Y (scatterplot) usando matplotlib,  \n",
    "3) Colocar el coeficiente de correlacion y colocarlo como parte del tıtulo de la grafica,  \n",
    "4) Basado en la grafica y el coeficiente de correlacion de cada par X ,Y elegir las 2 variables con mas potencial predictivo.\n",
    "Es decir las 2 variables que presentan mayor correlacionentre dicha variable y la variable dependiente."
   ]
  },
  {
   "cell_type": "code",
   "execution_count": 57,
   "metadata": {},
   "outputs": [],
   "source": [
    "#sns.pairplot(data_proy)"
   ]
  },
  {
   "cell_type": "code",
   "execution_count": 58,
   "metadata": {},
   "outputs": [],
   "source": [
    "from sklearn.linear_model import LinearRegression\n",
    "from sklearn.model_selection import train_test_split\n",
    "from sklearn import metrics\n",
    "import matplotlib.pyplot as plt"
   ]
  },
  {
   "cell_type": "markdown",
   "metadata": {},
   "source": [
    "##### Coeficiente de Correlacion de la Data"
   ]
  },
  {
   "cell_type": "code",
   "execution_count": 59,
   "metadata": {},
   "outputs": [
    {
     "data": {
      "text/html": [
       "<div>\n",
       "<style scoped>\n",
       "    .dataframe tbody tr th:only-of-type {\n",
       "        vertical-align: middle;\n",
       "    }\n",
       "\n",
       "    .dataframe tbody tr th {\n",
       "        vertical-align: top;\n",
       "    }\n",
       "\n",
       "    .dataframe thead th {\n",
       "        text-align: right;\n",
       "    }\n",
       "</style>\n",
       "<table border=\"1\" class=\"dataframe\">\n",
       "  <thead>\n",
       "    <tr style=\"text-align: right;\">\n",
       "      <th></th>\n",
       "      <th>SalePrice</th>\n",
       "      <th>YearBuilt</th>\n",
       "      <th>OverallQual</th>\n",
       "      <th>FlrSF1st</th>\n",
       "      <th>TotRmsAbvGrd</th>\n",
       "      <th>LotFrontage</th>\n",
       "    </tr>\n",
       "  </thead>\n",
       "  <tbody>\n",
       "    <tr>\n",
       "      <th>0</th>\n",
       "      <td>208500.0</td>\n",
       "      <td>2003.0</td>\n",
       "      <td>7.0</td>\n",
       "      <td>856.0</td>\n",
       "      <td>8.0</td>\n",
       "      <td>65.0</td>\n",
       "    </tr>\n",
       "    <tr>\n",
       "      <th>1</th>\n",
       "      <td>181500.0</td>\n",
       "      <td>1976.0</td>\n",
       "      <td>6.0</td>\n",
       "      <td>1262.0</td>\n",
       "      <td>6.0</td>\n",
       "      <td>80.0</td>\n",
       "    </tr>\n",
       "    <tr>\n",
       "      <th>2</th>\n",
       "      <td>223500.0</td>\n",
       "      <td>2001.0</td>\n",
       "      <td>7.0</td>\n",
       "      <td>920.0</td>\n",
       "      <td>6.0</td>\n",
       "      <td>68.0</td>\n",
       "    </tr>\n",
       "    <tr>\n",
       "      <th>3</th>\n",
       "      <td>140000.0</td>\n",
       "      <td>1915.0</td>\n",
       "      <td>7.0</td>\n",
       "      <td>961.0</td>\n",
       "      <td>7.0</td>\n",
       "      <td>60.0</td>\n",
       "    </tr>\n",
       "    <tr>\n",
       "      <th>4</th>\n",
       "      <td>250000.0</td>\n",
       "      <td>2000.0</td>\n",
       "      <td>8.0</td>\n",
       "      <td>1145.0</td>\n",
       "      <td>9.0</td>\n",
       "      <td>84.0</td>\n",
       "    </tr>\n",
       "  </tbody>\n",
       "</table>\n",
       "</div>"
      ],
      "text/plain": [
       "   SalePrice  YearBuilt  OverallQual  FlrSF1st  TotRmsAbvGrd  LotFrontage\n",
       "0   208500.0     2003.0          7.0     856.0           8.0         65.0\n",
       "1   181500.0     1976.0          6.0    1262.0           6.0         80.0\n",
       "2   223500.0     2001.0          7.0     920.0           6.0         68.0\n",
       "3   140000.0     1915.0          7.0     961.0           7.0         60.0\n",
       "4   250000.0     2000.0          8.0    1145.0           9.0         84.0"
      ]
     },
     "execution_count": 59,
     "metadata": {},
     "output_type": "execute_result"
    }
   ],
   "source": [
    "data_proy.head()"
   ]
  },
  {
   "cell_type": "code",
   "execution_count": 60,
   "metadata": {},
   "outputs": [
    {
     "data": {
      "text/html": [
       "<div>\n",
       "<style scoped>\n",
       "    .dataframe tbody tr th:only-of-type {\n",
       "        vertical-align: middle;\n",
       "    }\n",
       "\n",
       "    .dataframe tbody tr th {\n",
       "        vertical-align: top;\n",
       "    }\n",
       "\n",
       "    .dataframe thead th {\n",
       "        text-align: right;\n",
       "    }\n",
       "</style>\n",
       "<table border=\"1\" class=\"dataframe\">\n",
       "  <thead>\n",
       "    <tr style=\"text-align: right;\">\n",
       "      <th></th>\n",
       "      <th>SalePrice</th>\n",
       "      <th>YearBuilt</th>\n",
       "      <th>OverallQual</th>\n",
       "      <th>FlrSF1st</th>\n",
       "      <th>TotRmsAbvGrd</th>\n",
       "      <th>LotFrontage</th>\n",
       "    </tr>\n",
       "  </thead>\n",
       "  <tbody>\n",
       "    <tr>\n",
       "      <th>SalePrice</th>\n",
       "      <td>1.000000</td>\n",
       "      <td>0.522897</td>\n",
       "      <td>0.790982</td>\n",
       "      <td>0.605852</td>\n",
       "      <td>0.533723</td>\n",
       "      <td>0.298490</td>\n",
       "    </tr>\n",
       "    <tr>\n",
       "      <th>YearBuilt</th>\n",
       "      <td>0.522897</td>\n",
       "      <td>1.000000</td>\n",
       "      <td>0.572323</td>\n",
       "      <td>0.281986</td>\n",
       "      <td>0.095589</td>\n",
       "      <td>0.107828</td>\n",
       "    </tr>\n",
       "    <tr>\n",
       "      <th>OverallQual</th>\n",
       "      <td>0.790982</td>\n",
       "      <td>0.572323</td>\n",
       "      <td>1.000000</td>\n",
       "      <td>0.476224</td>\n",
       "      <td>0.427452</td>\n",
       "      <td>0.215195</td>\n",
       "    </tr>\n",
       "    <tr>\n",
       "      <th>FlrSF1st</th>\n",
       "      <td>0.605852</td>\n",
       "      <td>0.281986</td>\n",
       "      <td>0.476224</td>\n",
       "      <td>1.000000</td>\n",
       "      <td>0.409516</td>\n",
       "      <td>0.373312</td>\n",
       "    </tr>\n",
       "    <tr>\n",
       "      <th>TotRmsAbvGrd</th>\n",
       "      <td>0.533723</td>\n",
       "      <td>0.095589</td>\n",
       "      <td>0.427452</td>\n",
       "      <td>0.409516</td>\n",
       "      <td>1.000000</td>\n",
       "      <td>0.294840</td>\n",
       "    </tr>\n",
       "    <tr>\n",
       "      <th>LotFrontage</th>\n",
       "      <td>0.298490</td>\n",
       "      <td>0.107828</td>\n",
       "      <td>0.215195</td>\n",
       "      <td>0.373312</td>\n",
       "      <td>0.294840</td>\n",
       "      <td>1.000000</td>\n",
       "    </tr>\n",
       "  </tbody>\n",
       "</table>\n",
       "</div>"
      ],
      "text/plain": [
       "              SalePrice  YearBuilt  OverallQual  FlrSF1st  TotRmsAbvGrd  \\\n",
       "SalePrice      1.000000   0.522897     0.790982  0.605852      0.533723   \n",
       "YearBuilt      0.522897   1.000000     0.572323  0.281986      0.095589   \n",
       "OverallQual    0.790982   0.572323     1.000000  0.476224      0.427452   \n",
       "FlrSF1st       0.605852   0.281986     0.476224  1.000000      0.409516   \n",
       "TotRmsAbvGrd   0.533723   0.095589     0.427452  0.409516      1.000000   \n",
       "LotFrontage    0.298490   0.107828     0.215195  0.373312      0.294840   \n",
       "\n",
       "              LotFrontage  \n",
       "SalePrice        0.298490  \n",
       "YearBuilt        0.107828  \n",
       "OverallQual      0.215195  \n",
       "FlrSF1st         0.373312  \n",
       "TotRmsAbvGrd     0.294840  \n",
       "LotFrontage      1.000000  "
      ]
     },
     "execution_count": 60,
     "metadata": {},
     "output_type": "execute_result"
    }
   ],
   "source": [
    "from scipy.stats.stats import pearsonr\n",
    "data_proy.corr()"
   ]
  },
  {
   "cell_type": "code",
   "execution_count": 61,
   "metadata": {},
   "outputs": [],
   "source": [
    "#sns.pairplot(data_proy)"
   ]
  },
  {
   "cell_type": "markdown",
   "metadata": {},
   "source": [
    "##### Calcular el coeficiente de correlacion entre X y Y\n",
    "Para este ejercicio se definio:  \n",
    "Y = SalePrice  \n",
    "X = YearBuilt\tOverallQual\tFlrSF1st\tTotRmsAbvGrd\tLotFrontage"
   ]
  },
  {
   "cell_type": "code",
   "execution_count": 62,
   "metadata": {},
   "outputs": [
    {
     "name": "stdout",
     "output_type": "stream",
     "text": [
      "YearBuilt:  0.5228973328794969\n",
      "OverallQual:  0.7909816005838048\n",
      "FlrSF1st:  0.6058521846919147\n",
      "TotRmsAbvGrd:  0.5337231555820284\n",
      "LotFrontage:  0.29849044636085004\n"
     ]
    }
   ],
   "source": [
    "print('YearBuilt: ', data_proy['SalePrice'].corr(data_proy['YearBuilt'], method='pearson'))\n",
    "print('OverallQual: ', data_proy['SalePrice'].corr(data_proy['OverallQual'], method='pearson'))\n",
    "print('FlrSF1st: ', data_proy['SalePrice'].corr(data_proy['FlrSF1st'], method='pearson'))\n",
    "print('TotRmsAbvGrd: ', data_proy['SalePrice'].corr(data_proy['TotRmsAbvGrd'], method='pearson'))\n",
    "print('LotFrontage: ', data_proy['SalePrice'].corr(data_proy['LotFrontage'], method='pearson'))"
   ]
  },
  {
   "cell_type": "markdown",
   "metadata": {},
   "source": [
    "##### Coeficiente de Correlacion con data de Entrenamiento"
   ]
  },
  {
   "cell_type": "code",
   "execution_count": 38,
   "metadata": {},
   "outputs": [],
   "source": [
    "#Base de datos\n",
    "#dataTrain\n",
    "#dataTest\n",
    "#dataTrain_SaleP\n",
    "#dataTest_SaleP"
   ]
  },
  {
   "cell_type": "code",
   "execution_count": 64,
   "metadata": {},
   "outputs": [
    {
     "name": "stdout",
     "output_type": "stream",
     "text": [
      "YearBuilt: 0.5244519611589445\n",
      "OverallQual: 0.7889930770922915\n",
      "FlrSF1st: 0.6199854402815616\n",
      "TotRmsAbvGrd: 0.5200514299015461\n",
      "LotFrontage: 0.3177171842667397\n"
     ]
    }
   ],
   "source": [
    "print('YearBuilt:', np.corrcoef(dataTrain_SaleP[:,0], dataTrain[:,0])[1,0])\n",
    "print('OverallQual:', np.corrcoef(dataTrain_SaleP[:,0], dataTrain[:,1])[1,0])\n",
    "print('FlrSF1st:', np.corrcoef(dataTrain_SaleP[:,0], dataTrain[:,2])[1,0])\n",
    "print('TotRmsAbvGrd:', np.corrcoef(dataTrain_SaleP[:,0], dataTrain[:,3])[1,0])\n",
    "print('LotFrontage:', np.corrcoef(dataTrain_SaleP[:,0], dataTrain[:,4])[1,0])"
   ]
  },
  {
   "cell_type": "markdown",
   "metadata": {},
   "source": [
    "##### Coeficiente de Correlacion con data Test"
   ]
  },
  {
   "cell_type": "code",
   "execution_count": 37,
   "metadata": {},
   "outputs": [
    {
     "name": "stdout",
     "output_type": "stream",
     "text": [
      "YearBuilt: 0.5166720077323391\n",
      "OverallQual: 0.8008044334326888\n",
      "FlrSF1st: 0.5465776680240583\n",
      "TotRmsAbvGrd: 0.5957340883181725\n",
      "LotFrontage: 0.24151068970379527\n"
     ]
    }
   ],
   "source": [
    "print('YearBuilt:', np.corrcoef(dataTest_SaleP[:,0], dataTest[:,0])[1,0])\n",
    "print('OverallQual:', np.corrcoef(dataTest_SaleP[:,0], dataTest[:,1])[1,0])\n",
    "print('FlrSF1st:', np.corrcoef(dataTest_SaleP[:,0], dataTest[:,2])[1,0])\n",
    "print('TotRmsAbvGrd:', np.corrcoef(dataTest_SaleP[:,0], dataTest[:,3])[1,0])\n",
    "print('LotFrontage:', np.corrcoef(dataTest_SaleP[:,0], dataTest[:,4])[1,0])"
   ]
  },
  {
   "cell_type": "markdown",
   "metadata": {},
   "source": [
    "##### Graficar X vs Y (scatterplot)"
   ]
  },
  {
   "cell_type": "code",
   "execution_count": 65,
   "metadata": {},
   "outputs": [],
   "source": [
    "coef1 = np.corrcoef(dataTrain_SaleP[:,0], dataTrain[:,0])[1,0]\n",
    "coef2 = np.corrcoef(dataTrain_SaleP[:,0], dataTrain[:,1])[1,0]\n",
    "coef3 = np.corrcoef(dataTrain_SaleP[:,0], dataTrain[:,2])[1,0]\n",
    "coef4 = np.corrcoef(dataTrain_SaleP[:,0], dataTrain[:,3])[1,0]\n",
    "coef5 = np.corrcoef(dataTrain_SaleP[:,0], dataTrain[:,4])[1,0]"
   ]
  },
  {
   "cell_type": "code",
   "execution_count": 66,
   "metadata": {},
   "outputs": [
    {
     "data": {
      "image/png": "[encoded data removed]",
      "text/plain": [
       "<Figure size 432x288 with 1 Axes>"
      ]
     },
     "metadata": {
      "needs_background": "light"
     },
     "output_type": "display_data"
    }
   ],
   "source": [
    "plt.scatter(data_proy['SalePrice'], data_proy['YearBuilt'])\n",
    "plt.title(f\"Coeficiente Correlacion {coef1}\")\n",
    "plt.xlabel('SalePrice')\n",
    "plt.ylabel('YearBuilt')\n",
    "plt.show()"
   ]
  },
  {
   "cell_type": "code",
   "execution_count": 67,
   "metadata": {},
   "outputs": [
    {
     "data": {
      "image/png": "[encoded data removed]",
      "text/plain": [
       "<Figure size 432x288 with 1 Axes>"
      ]
     },
     "metadata": {
      "needs_background": "light"
     },
     "output_type": "display_data"
    }
   ],
   "source": [
    "plt.scatter(data_proy['SalePrice'], data_proy['OverallQual'])\n",
    "plt.title(f\"Coeficiente Correlacion {coef2}\")\n",
    "plt.xlabel('SalePrice')\n",
    "plt.ylabel('OverallQual')\n",
    "plt.show()"
   ]
  },
  {
   "cell_type": "code",
   "execution_count": 68,
   "metadata": {},
   "outputs": [
    {
     "data": {
      "image/png": "[encoded data removed]",
      "text/plain": [
       "<Figure size 432x288 with 1 Axes>"
      ]
     },
     "metadata": {
      "needs_background": "light"
     },
     "output_type": "display_data"
    }
   ],
   "source": [
    "plt.scatter(data_proy['SalePrice'], data_proy['FlrSF1st'])\n",
    "plt.title(f\"Coeficiente Correlacion {coef3}\")\n",
    "plt.xlabel('SalePrice')\n",
    "plt.ylabel('FlrSF1st')\n",
    "plt.show()"
   ]
  },
  {
   "cell_type": "code",
   "execution_count": 69,
   "metadata": {},
   "outputs": [
    {
     "data": {
      "image/png": "[encoded data removed]",
      "text/plain": [
       "<Figure size 432x288 with 1 Axes>"
      ]
     },
     "metadata": {
      "needs_background": "light"
     },
     "output_type": "display_data"
    }
   ],
   "source": [
    "plt.scatter(data_proy['SalePrice'], data_proy['TotRmsAbvGrd'])\n",
    "plt.title(f\"Coeficiente Correlacion {coef4}\")\n",
    "plt.xlabel('SalePrice')\n",
    "plt.ylabel('TotRmsAbvGrd')\n",
    "plt.show()"
   ]
  },
  {
   "cell_type": "code",
   "execution_count": 70,
   "metadata": {},
   "outputs": [
    {
     "data": {
      "image/png": "[encoded data removed]",
      "text/plain": [
       "<Figure size 432x288 with 1 Axes>"
      ]
     },
     "metadata": {
      "needs_background": "light"
     },
     "output_type": "display_data"
    }
   ],
   "source": [
    "plt.scatter(data_proy['SalePrice'], data_proy['LotFrontage'])\n",
    "plt.title(f\"Coeficiente Correlacion {coef5}\")\n",
    "plt.xlabel('SalePrice')\n",
    "plt.ylabel('LotFrontage')\n",
    "plt.show()"
   ]
  },
  {
   "cell_type": "markdown",
   "metadata": {},
   "source": [
    "##### Conclusion"
   ]
  },
  {
   "cell_type": "markdown",
   "metadata": {},
   "source": [
    "Basado en el analisis exploratorio de datos realizados, y tomando como referencia el coeficiente de correlacion y el comportamiento de cada una de las variables a través de sus graficas.  \n",
    "\n",
    "Se pueden considerar las variables calidad de materiales y acabados, y los pies cuadrados del primer piso, como las variables con mayor potencial para realizar los mejores pronosticos en relacion al precio de venta de la propiedad en dolares.\n",
    "\n",
    "Asimismo, se realizo el calculo de la correlacion con el dataTrain y se observo que las mismas variables muestra la mayor correlacion en relaciona al precio de venta, que las demas.  \n",
    "\n",
    "Es importante mencionar que al realizar los calculos de las correlaciones, las variables muestran una mayor correlacion con la data total, con relacion a la dataTrain\n"
   ]
  },
  {
   "cell_type": "markdown",
   "metadata": {},
   "source": [
    "##### Regresion Lineal Multiple"
   ]
  },
  {
   "cell_type": "code",
   "execution_count": 71,
   "metadata": {},
   "outputs": [
    {
     "name": "stdout",
     "output_type": "stream",
     "text": [
      "R2: 0.7279345706773444\n"
     ]
    }
   ],
   "source": [
    "YM = data_proy['SalePrice'].values.reshape(-1, 1)\n",
    "XM = data_proy.iloc[:, 1:6].values.reshape(-1, 5)\n",
    "\n",
    "dataTrain, dataTest, dataTrain_SaleP, dataTest_SaleP = train_test_split(XM, YM, test_size = 0.2, shuffle=True, random_state=123)\n",
    "\n",
    "lmm = LinearRegression()\n",
    "lmm.fit(XM, YM)\n",
    "lmm.coef_\n",
    "lmm.intercept_\n",
    "print('R2:', lmm.score(dataTrain, dataTrain_SaleP))"
   ]
  },
  {
   "cell_type": "markdown",
   "metadata": {},
   "source": [
    "##### Regresion Lineal Simple"
   ]
  },
  {
   "cell_type": "markdown",
   "metadata": {},
   "source": [
    "##### X1 = YearBuilt"
   ]
  },
  {
   "cell_type": "code",
   "execution_count": 39,
   "metadata": {},
   "outputs": [
    {
     "name": "stdout",
     "output_type": "stream",
     "text": [
      "B1: [[1374.17806927]]\n",
      "B0: [-2527649.07554854]\n",
      "R2: 0.26656816000756756\n",
      "Mean Squared Error 4532326388.98649\n"
     ]
    }
   ],
   "source": [
    "X1 = dataTrain[:, np.newaxis, 0]\n",
    "X1t = dataTest[:, np.newaxis, 0]\n",
    "Y0 = dataTrain_SaleP\n",
    "\n",
    "lm1 = LinearRegression()\n",
    "lm1.fit(X1, Y0)\n",
    "Y1 = lm1.predict(X1t)\n",
    "\n",
    "print('B1:', lm1.coef_)\n",
    "print('B0:', lm1.intercept_)\n",
    "print('R2:', lm1.score(X1t, dataTest_SaleP))\n",
    "\n",
    "mse = metrics.mean_squared_error(dataTest_SaleP, Y1)\n",
    "print(\"Mean Squared Error {}\".format(mse))\n",
    "#print(\"Predicciones {}\".format(Y1[:5]))\n",
    "#print(\"Valores Reales {}\".format(dataTest_SaleP[:5]))\n"
   ]
  },
  {
   "cell_type": "code",
   "execution_count": 73,
   "metadata": {},
   "outputs": [
    {
     "data": {
      "text/plain": [
       "[<matplotlib.lines.Line2D at 0x1e2cee42a00>]"
      ]
     },
     "execution_count": 73,
     "metadata": {},
     "output_type": "execute_result"
    },
    {
     "data": {
      "image/png": "[encoded data removed]",
      "text/plain": [
       "<Figure size 432x288 with 1 Axes>"
      ]
     },
     "metadata": {
      "needs_background": "light"
     },
     "output_type": "display_data"
    }
   ],
   "source": [
    "plt.scatter(X1, Y0)\n",
    "plt.xlabel('YearBuilt')\n",
    "plt.ylabel('SalePrice')\n",
    "plt.plot(X1t, Y1, color='red', linewidth=3)"
   ]
  },
  {
   "cell_type": "markdown",
   "metadata": {},
   "source": [
    "##### X2 = OverallQual"
   ]
  },
  {
   "cell_type": "code",
   "execution_count": 40,
   "metadata": {},
   "outputs": [
    {
     "name": "stdout",
     "output_type": "stream",
     "text": [
      "B1: [[44813.4594101]]\n",
      "B0: [-92345.76508706]\n",
      "R2: 0.6378891970225264\n",
      "Mean Squared Error 2237705344.3559594\n"
     ]
    }
   ],
   "source": [
    "X2 = dataTrain[:, np.newaxis, 1]\n",
    "X2t =  dataTest[:, np.newaxis, 1]\n",
    "Y0 = dataTrain_SaleP\n",
    "lm2 = LinearRegression()\n",
    "lm2.fit(X2, Y0)\n",
    "Y2 = lm2.predict(X2t)\n",
    "\n",
    "print('B1:', lm2.coef_)\n",
    "print('B0:', lm2.intercept_)\n",
    "print('R2:', lm2.score(X2t, dataTest_SaleP))\n",
    "\n",
    "mse = metrics.mean_squared_error(dataTest_SaleP, Y2)\n",
    "print(\"Mean Squared Error {}\".format(mse))\n",
    "#print(\"Predicciones {}\".format(Y2[:5]))\n",
    "#print(\"Valores Reales {}\".format(dataTest_SaleP[:5]))\n"
   ]
  },
  {
   "cell_type": "code",
   "execution_count": 75,
   "metadata": {},
   "outputs": [
    {
     "data": {
      "text/plain": [
       "[<matplotlib.lines.Line2D at 0x1e2ceea6730>]"
      ]
     },
     "execution_count": 75,
     "metadata": {},
     "output_type": "execute_result"
    },
    {
     "data": {
      "image/png": "[encoded data removed]",
      "text/plain": [
       "<Figure size 432x288 with 1 Axes>"
      ]
     },
     "metadata": {
      "needs_background": "light"
     },
     "output_type": "display_data"
    }
   ],
   "source": [
    "plt.scatter(X2, Y0)\n",
    "plt.xlabel('OverallQual')\n",
    "plt.ylabel('SalePrice')\n",
    "plt.plot(X2t, Y2, color='red', linewidth=3)"
   ]
  },
  {
   "cell_type": "markdown",
   "metadata": {},
   "source": [
    "##### X3 = FlrSF1st"
   ]
  },
  {
   "cell_type": "code",
   "execution_count": 41,
   "metadata": {},
   "outputs": [
    {
     "name": "stdout",
     "output_type": "stream",
     "text": [
      "B1: [[124.63473898]]\n",
      "B0: [35077.7487892]\n",
      "R2: 0.2951740790681032\n",
      "Mean Squared Error 4355552822.896674\n"
     ]
    }
   ],
   "source": [
    "X3 = dataTrain[:, np.newaxis, 2]\n",
    "X3t = dataTest[:, np.newaxis, 2]\n",
    "Y0 = dataTrain_SaleP\n",
    "lm3 = LinearRegression()\n",
    "lm3.fit(X3, Y0)\n",
    "Y3 = lm3.predict(X3t)\n",
    "\n",
    "print('B1:', lm3.coef_)\n",
    "print('B0:', lm3.intercept_)\n",
    "print('R2:', lm3.score(X3t, dataTest_SaleP))\n",
    "\n",
    "mse = metrics.mean_squared_error(dataTest_SaleP, Y3)\n",
    "print(\"Mean Squared Error {}\".format(mse))\n",
    "#print(\"Predicciones {}\".format(Y3[:5]))\n",
    "#print(\"Valores Reales {}\".format(dataTest_SaleP[:5]))"
   ]
  },
  {
   "cell_type": "code",
   "execution_count": 42,
   "metadata": {},
   "outputs": [
    {
     "data": {
      "text/plain": [
       "[<matplotlib.lines.Line2D at 0x22bd08bcca0>]"
      ]
     },
     "execution_count": 42,
     "metadata": {},
     "output_type": "execute_result"
    },
    {
     "data": {
      "image/png": "[encoded data removed]",
      "text/plain": [
       "<Figure size 432x288 with 1 Axes>"
      ]
     },
     "metadata": {
      "needs_background": "light"
     },
     "output_type": "display_data"
    }
   ],
   "source": [
    "plt.scatter(X3, Y0)\n",
    "plt.xlabel('FlrSF1st')\n",
    "plt.ylabel('SalePrice')\n",
    "plt.plot(X3t, Y3, color='red', linewidth=3)"
   ]
  },
  {
   "cell_type": "markdown",
   "metadata": {},
   "source": [
    "##### X4 = TotRmsAbvGrd"
   ]
  },
  {
   "cell_type": "code",
   "execution_count": 43,
   "metadata": {},
   "outputs": [
    {
     "name": "stdout",
     "output_type": "stream",
     "text": [
      "B1: [[25155.38306682]]\n",
      "B0: [16194.83369227]\n",
      "R2: 0.34154368862672024\n",
      "Mean Squared Error 4069006488.8137574\n"
     ]
    }
   ],
   "source": [
    "X4 = dataTrain[:, np.newaxis, 3]\n",
    "X4t = dataTest[:, np.newaxis, 3]\n",
    "Y0 = dataTrain_SaleP\n",
    "lm4 = LinearRegression()\n",
    "lm4.fit(X4, Y0)\n",
    "Y4 = lm4.predict(X4t)\n",
    "\n",
    "print('B1:', lm4.coef_)\n",
    "print('B0:', lm4.intercept_)\n",
    "print('R2:', lm4.score(X4t, dataTest_SaleP))\n",
    "\n",
    "mse = metrics.mean_squared_error(dataTest_SaleP, Y4)\n",
    "print(\"Mean Squared Error {}\".format(mse))\n",
    "#print(\"Predicciones {}\".format(Y4[:5]))\n",
    "#print(\"Valores Reales {}\".format(dataTest_SaleP[:5]))"
   ]
  },
  {
   "cell_type": "code",
   "execution_count": 79,
   "metadata": {},
   "outputs": [
    {
     "data": {
      "text/plain": [
       "[<matplotlib.lines.Line2D at 0x1e2cef604f0>]"
      ]
     },
     "execution_count": 79,
     "metadata": {},
     "output_type": "execute_result"
    },
    {
     "data": {
      "image/png": "[encoded data removed]",
      "text/plain": [
       "<Figure size 432x288 with 1 Axes>"
      ]
     },
     "metadata": {
      "needs_background": "light"
     },
     "output_type": "display_data"
    }
   ],
   "source": [
    "plt.scatter(X4, Y0)\n",
    "plt.xlabel('TotRmsAbvGrd')\n",
    "plt.ylabel('SalePrice')\n",
    "plt.plot(X4t, Y4, color='red', linewidth=3)"
   ]
  },
  {
   "cell_type": "markdown",
   "metadata": {},
   "source": [
    "##### X5 = LotFrontage"
   ]
  },
  {
   "cell_type": "code",
   "execution_count": 44,
   "metadata": {},
   "outputs": [
    {
     "name": "stdout",
     "output_type": "stream",
     "text": [
      "B1: [[1115.95485882]]\n",
      "B0: [103226.99839941]\n",
      "R2: 0.033333091064838394\n",
      "Mean Squared Error 5973629316.082104\n"
     ]
    }
   ],
   "source": [
    "X5 = dataTrain[:, np.newaxis, 4]\n",
    "X5t = dataTest[:, np.newaxis, 4]\n",
    "Y0 = dataTrain_SaleP\n",
    "lm5 = LinearRegression()\n",
    "lm5.fit(X5, Y0)\n",
    "Y5 = lm5.predict(X5t)\n",
    "\n",
    "print('B1:', lm5.coef_)\n",
    "print('B0:', lm5.intercept_)\n",
    "print('R2:', lm5.score(X5t, dataTest_SaleP))\n",
    "\n",
    "mse = metrics.mean_squared_error(dataTest_SaleP, Y5)\n",
    "print(\"Mean Squared Error {}\".format(mse))\n",
    "#print(\"Predicciones {}\".format(Y5[:5]))\n",
    "#print(\"Valores Reales {}\".format(dataTest_SaleP[:5]))"
   ]
  },
  {
   "cell_type": "code",
   "execution_count": 81,
   "metadata": {},
   "outputs": [
    {
     "data": {
      "text/plain": [
       "[<matplotlib.lines.Line2D at 0x1e2cefc4130>]"
      ]
     },
     "execution_count": 81,
     "metadata": {},
     "output_type": "execute_result"
    },
    {
     "data": {
      "image/png": "[encoded data removed]",
      "text/plain": [
       "<Figure size 432x288 with 1 Axes>"
      ]
     },
     "metadata": {
      "needs_background": "light"
     },
     "output_type": "display_data"
    }
   ],
   "source": [
    "plt.scatter(X5, Y0)\n",
    "plt.xlabel('LotFrontage')\n",
    "plt.ylabel('SalePrice')\n",
    "plt.plot(X5t, Y5, color='red', linewidth=3)"
   ]
  },
  {
   "cell_type": "markdown",
   "metadata": {},
   "source": [
    "#### Inciso No.6 Crear Funcion  \n",
    "Crear una funcion para entrenar un modelo de regresion lineal de una variable y = β0 +β1 ∗x."
   ]
  },
  {
   "cell_type": "markdown",
   "metadata": {},
   "source": [
    "Nota: numpy.newaxis se usa para aumentar la dimensión de la matriz existente en una dimensión más, cuando se usa una vez. "
   ]
  },
  {
   "cell_type": "markdown",
   "metadata": {},
   "source": [
    "##### Librerias"
   ]
  },
  {
   "cell_type": "code",
   "execution_count": 13,
   "metadata": {},
   "outputs": [],
   "source": [
    "import pandas as pd \n",
    "import numpy as np\n",
    "from sklearn.linear_model import LinearRegression\n",
    "from sklearn.model_selection import train_test_split\n",
    "from sklearn import metrics\n",
    "import matplotlib.pyplot as plt"
   ]
  },
  {
   "cell_type": "code",
   "execution_count": 14,
   "metadata": {},
   "outputs": [],
   "source": [
    "data_proy = np.load('proyecto_training_data.npy')\n",
    "data_proy = pd.DataFrame(data_proy, columns=['SalePrice', 'OverallQual', 'FlrSF1st', 'TotRmsAbvGrd', 'YearBuilt', 'LotFrontage'])\n",
    "x = data_proy['FlrSF1st'].values\n",
    "y = data_proy['SalePrice'].values"
   ]
  },
  {
   "cell_type": "markdown",
   "metadata": {},
   "source": [
    "##### Regresion Lineal para FlrSF1st"
   ]
  },
  {
   "cell_type": "code",
   "execution_count": 15,
   "metadata": {},
   "outputs": [
    {
     "name": "stdout",
     "output_type": "stream",
     "text": [
      "B0: [-92345.76508706]\n",
      "B1: [[44813.4594101]]\n",
      "Coef_Corr:  0.7909816005838048\n",
      "MSE: 2237705344.3559594\n"
     ]
    }
   ],
   "source": [
    "import sklearn\n",
    "#vx = data_proy['FlrSF1st']\n",
    "vx = data_proy['OverallQual']\n",
    "vy = data_proy['SalePrice']\n",
    "\n",
    "X_train, X_test, y_train, y_test = train_test_split(vx.values.reshape(-1,1), vy.values.reshape(-1,1), train_size=0.8, \n",
    "                                                    random_state = 123, shuffle = True)\n",
    "\n",
    "lm = LinearRegression()\n",
    "lm.fit(X_train, y_train)\n",
    "Y_pred = lm.predict(X_test)\n",
    "\n",
    "print('B0:', lm.intercept_)\n",
    "print('B1:', lm.coef_)\n",
    "print('Coef_Corr: ', data_proy['SalePrice'].corr(data_proy['OverallQual'], method='pearson'))\n",
    "print('MSE:', sklearn.metrics.mean_squared_error(y_test, Y_pred))"
   ]
  },
  {
   "cell_type": "code",
   "execution_count": 85,
   "metadata": {},
   "outputs": [
    {
     "data": {
      "text/plain": [
       "Text(0, 0.5, 'SalePrice')"
      ]
     },
     "execution_count": 85,
     "metadata": {},
     "output_type": "execute_result"
    },
    {
     "data": {
      "image/png": "[encoded data removed]",
      "text/plain": [
       "<Figure size 432x288 with 1 Axes>"
      ]
     },
     "metadata": {
      "needs_background": "light"
     },
     "output_type": "display_data"
    }
   ],
   "source": [
    "# Visualizacion de la Data, datos normales\n",
    "plt.scatter(vx, vy, color='gray')\n",
    "#plt.xlabel(\"FlrSF1st\")\n",
    "plt.xlabel(\"OverallQual\")\n",
    "plt.ylabel(\"SalePrice\")"
   ]
  },
  {
   "cell_type": "code",
   "execution_count": 86,
   "metadata": {},
   "outputs": [
    {
     "data": {
      "text/plain": [
       "Text(0.5, 1.0, 'SalePrice vs OverallQua')"
      ]
     },
     "execution_count": 86,
     "metadata": {},
     "output_type": "execute_result"
    },
    {
     "data": {
      "image/png": "[encoded data removed]",
      "text/plain": [
       "<Figure size 432x288 with 1 Axes>"
      ]
     },
     "metadata": {
      "needs_background": "light"
     },
     "output_type": "display_data"
    }
   ],
   "source": [
    "# Visualizacion del modelo estimado\n",
    "plt.scatter(y_test, Y_pred)\n",
    "#plt.xlabel(\"FlrSF1st\")\n",
    "plt.xlabel(\"OverallQua\")\n",
    "plt.ylabel(\"SalePrice\")\n",
    "plt.title(\"SalePrice vs OverallQua\")"
   ]
  },
  {
   "cell_type": "markdown",
   "metadata": {},
   "source": [
    "##### Funciones"
   ]
  },
  {
   "cell_type": "code",
   "execution_count": 87,
   "metadata": {},
   "outputs": [],
   "source": [
    "import pandas as pd \n",
    "import numpy as np\n",
    "from sklearn.linear_model import LinearRegression\n",
    "from sklearn.model_selection import train_test_split\n",
    "from sklearn import metrics\n",
    "import matplotlib.pyplot as plt"
   ]
  },
  {
   "cell_type": "code",
   "execution_count": 88,
   "metadata": {},
   "outputs": [],
   "source": [
    "data_proy = np.load('proyecto_training_data.npy')\n",
    "data_proy = pd.DataFrame(data_proy, columns=['SalePrice', 'OverallQual', 'FlrSF1st', 'TotRmsAbvGrd', 'YearBuilt', 'LotFrontage'])\n",
    "#X = data_proy['FlrSF1st'].values.reshape(-1, 1)\n",
    "X = data_proy['OverallQual'].values.reshape(-1, 1)\n",
    "y = data_proy['SalePrice'].values.reshape(-1, 1)"
   ]
  },
  {
   "cell_type": "code",
   "execution_count": 89,
   "metadata": {},
   "outputs": [],
   "source": [
    "n = len(X)"
   ]
  },
  {
   "cell_type": "code",
   "execution_count": 90,
   "metadata": {},
   "outputs": [],
   "source": [
    "#X = data_proy['FlrSF1st'].values.reshape(-1, 1)\n",
    "X = data_proy['OverallQual'].values.reshape(-1, 1)\n",
    "y = data_proy['SalePrice'].values.reshape(-1, 1)"
   ]
  },
  {
   "cell_type": "code",
   "execution_count": 91,
   "metadata": {},
   "outputs": [
    {
     "data": {
      "text/plain": [
       "array([[7.],\n",
       "       [6.],\n",
       "       [7.],\n",
       "       ...,\n",
       "       [7.],\n",
       "       [5.],\n",
       "       [5.]])"
      ]
     },
     "execution_count": 91,
     "metadata": {},
     "output_type": "execute_result"
    }
   ],
   "source": [
    "X"
   ]
  },
  {
   "cell_type": "code",
   "execution_count": 92,
   "metadata": {},
   "outputs": [
    {
     "data": {
      "text/plain": [
       "array([[208500.],\n",
       "       [181500.],\n",
       "       [223500.],\n",
       "       ...,\n",
       "       [266500.],\n",
       "       [142125.],\n",
       "       [147500.]])"
      ]
     },
     "execution_count": 92,
     "metadata": {},
     "output_type": "execute_result"
    }
   ],
   "source": [
    "y"
   ]
  },
  {
   "cell_type": "code",
   "execution_count": 93,
   "metadata": {},
   "outputs": [
    {
     "data": {
      "text/plain": [
       "Text(0, 0.5, 'Y')"
      ]
     },
     "execution_count": 93,
     "metadata": {},
     "output_type": "execute_result"
    },
    {
     "data": {
      "image/png": "[encoded data removed]",
      "text/plain": [
       "<Figure size 432x288 with 1 Axes>"
      ]
     },
     "metadata": {
      "needs_background": "light"
     },
     "output_type": "display_data"
    }
   ],
   "source": [
    "plt.plot(X , y,'b.')\n",
    "plt.xlabel(\"X\", fontsize= 18)\n",
    "plt.ylabel(\"Y\", rotation= 0, fontsize= 18)\n",
    "#_ =plt.axis([0,6000,0,500000])"
   ]
  },
  {
   "cell_type": "code",
   "execution_count": 94,
   "metadata": {},
   "outputs": [
    {
     "name": "stdout",
     "output_type": "stream",
     "text": [
      "theta0: [-96206.07951476]\n",
      "theta1: [45435.8025931]\n"
     ]
    }
   ],
   "source": [
    "X2 = np.c_[np.ones((n,1)), X]\n",
    "theta_best = np.linalg.inv(X2.T.dot(X2)).dot(X2.T).dot(y)\n",
    "print('theta0:', theta_best[0])\n",
    "print('theta1:', theta_best[1])"
   ]
  },
  {
   "cell_type": "markdown",
   "metadata": {},
   "source": [
    "##### Calcular y_hat (Prediccion o Estimadacion)  \n",
    "y_predict = np.dot(observacion, parametro)"
   ]
  },
  {
   "cell_type": "code",
   "execution_count": 100,
   "metadata": {},
   "outputs": [],
   "source": [
    "X_new = np.array([[0],[2]])\n",
    "X2_new = np.c_[np.ones((2,1)), X_new]\n",
    "y_predict = X2_new.dot(theta_best)"
   ]
  },
  {
   "cell_type": "code",
   "execution_count": 101,
   "metadata": {},
   "outputs": [
    {
     "data": {
      "text/plain": [
       "Text(0, 0.5, 'Y')"
      ]
     },
     "execution_count": 101,
     "metadata": {},
     "output_type": "execute_result"
    },
    {
     "data": {
      "image/png": "[encoded data removed]",
      "text/plain": [
       "<Figure size 432x288 with 1 Axes>"
      ]
     },
     "metadata": {
      "needs_background": "light"
     },
     "output_type": "display_data"
    }
   ],
   "source": [
    "plt.plot(X_new, y_predict,'r-')\n",
    "plt.plot(X, y, 'b.')\n",
    "plt.xlabel(\"X\", fontsize=18)\n",
    "plt.ylabel(\"Y\", rotation=0, fontsize=18)\n",
    "#plt.axis([0,5000,0,300000])"
   ]
  },
  {
   "cell_type": "markdown",
   "metadata": {},
   "source": [
    "##### Calcular el error o costo usando"
   ]
  },
  {
   "cell_type": "code",
   "execution_count": 102,
   "metadata": {},
   "outputs": [],
   "source": [
    "def  cal_cost(theta, X, y):\n",
    "    n = len(y)\n",
    "    predict = X.dot(theta)\n",
    "    cost = (1/2*n) * np.sum(np.square(predict - y))\n",
    "    return cost"
   ]
  },
  {
   "cell_type": "markdown",
   "metadata": {},
   "source": [
    "##### Calcular el gradiente del error respecto de cada parametro"
   ]
  },
  {
   "cell_type": "code",
   "execution_count": 103,
   "metadata": {},
   "outputs": [],
   "source": [
    "def gradient_descent(X, y, theta, alpha=0.01, iterar= 100):\n",
    "    n = len(y)\n",
    "    cost_history = np.zeros(iterar)\n",
    "    theta_history = np.zeros((iterar, 2))\n",
    "    for it in range(iterar):\n",
    "        \n",
    "        predict = np.dot(X, theta)\n",
    "        \n",
    "        theta = theta -(1/n)*alpha*( X.T.dot((predict - y)))\n",
    "        theta_history[it,:] =theta.T\n",
    "        cost_history[it]  = cal_cost(theta,X,y)\n",
    "        \n",
    "    return theta, cost_history, theta_history"
   ]
  },
  {
   "cell_type": "markdown",
   "metadata": {},
   "source": [
    "##### Parametros"
   ]
  },
  {
   "cell_type": "code",
   "execution_count": 104,
   "metadata": {},
   "outputs": [
    {
     "name": "stdout",
     "output_type": "stream",
     "text": [
      "Theta0:          -33624.085,\n",
      "Theta1:          35664.798\n",
      "Final cost/MSE:  2720274598600905.500\n"
     ]
    }
   ],
   "source": [
    "alpha =0.001\n",
    "iterar = 10000\n",
    "\n",
    "theta = np.random.randn(2,1)\n",
    "\n",
    "X2 = np.c_[np.ones((len(X),1)), X]\n",
    "theta, cost_history, theta_history = gradient_descent(X2, y, theta, alpha, iterar)\n",
    "\n",
    "print('Theta0:          {:0.3f},\\nTheta1:          {:0.3f}'.format(theta[0][0], theta[1][0]))\n",
    "print('Final cost/MSE:  {:0.3f}'.format(cost_history[-1]))"
   ]
  },
  {
   "cell_type": "markdown",
   "metadata": {},
   "source": [
    "##### Visualizacion"
   ]
  },
  {
   "cell_type": "code",
   "execution_count": 105,
   "metadata": {},
   "outputs": [
    {
     "data": {
      "image/png": "[encoded data removed]",
      "text/plain": [
       "<Figure size 864x576 with 1 Axes>"
      ]
     },
     "metadata": {
      "needs_background": "light"
     },
     "output_type": "display_data"
    }
   ],
   "source": [
    "fig,ax = plt.subplots(figsize=(12,8))\n",
    "ax.set_ylabel('Theta)')\n",
    "ax.set_xlabel('Iteraciones')\n",
    "_=ax.plot(range(iterar), cost_history,'b.')"
   ]
  },
  {
   "cell_type": "code",
   "execution_count": 367,
   "metadata": {},
   "outputs": [
    {
     "data": {
      "image/png": "[encoded data removed]",
      "text/plain": [
       "<Figure size 720x576 with 1 Axes>"
      ]
     },
     "metadata": {
      "needs_background": "light"
     },
     "output_type": "display_data"
    }
   ],
   "source": [
    "fig,ax = plt.subplots(figsize=(10,8))\n",
    "_=ax.plot(range(200),cost_history[:200],'b.')"
   ]
  },
  {
   "cell_type": "code",
   "execution_count": null,
   "metadata": {},
   "outputs": [],
   "source": []
  },
  {
   "cell_type": "markdown",
   "metadata": {},
   "source": [
    "#### PRUEBAS CON LA DATA"
   ]
  },
  {
   "cell_type": "code",
   "execution_count": 16,
   "metadata": {},
   "outputs": [],
   "source": [
    "# Data para la estimacion\n",
    "X = data_proy['FlrSF1st'].values.reshape(-1, 1)\n",
    "y = data_proy['SalePrice'].values.reshape(-1, 1)"
   ]
  },
  {
   "cell_type": "code",
   "execution_count": 17,
   "metadata": {},
   "outputs": [
    {
     "name": "stdout",
     "output_type": "stream",
     "text": [
      "Theta0: [36173.44679512]\n",
      "Theta1: [124.50062222]\n"
     ]
    }
   ],
   "source": [
    "# los mejores estimadores para theta\n",
    "X2 = np.c_[np.ones((1460,1)), X]\n",
    "theta_estimados = np.linalg.inv(X2.T.dot(X2)).dot(X2.T).dot(y)\n",
    "print('Theta0:', theta_estimados[0])\n",
    "print('Theta1:', theta_estimados[1])"
   ]
  },
  {
   "cell_type": "code",
   "execution_count": 18,
   "metadata": {},
   "outputs": [],
   "source": [
    "#derivadas parciales: direccion de la pendiente\n",
    "#vector de las derivadas parciales = gradiente\n",
    "#minimizar el corte del modelo = theta - alpha(f.gradiente)"
   ]
  },
  {
   "cell_type": "code",
   "execution_count": 19,
   "metadata": {},
   "outputs": [],
   "source": [
    "# Parametros iniciales  \n",
    "alpha =0.05 #tasa de aprendizaje\n",
    "A = 0.1 #theta0\n",
    "B = 0.1 #theta1\n",
    "iteraciones = 100"
   ]
  },
  {
   "cell_type": "code",
   "execution_count": 6,
   "metadata": {},
   "outputs": [],
   "source": [
    "def y_hat(x, A, B):\n",
    "    return A + B*X"
   ]
  },
  {
   "cell_type": "code",
   "execution_count": 7,
   "metadata": {},
   "outputs": [],
   "source": [
    "def plot_line(X, y, A, B):\n",
    "    x_ = [i for i in range(int(min(X))-1, int(max(X))+2)]\n",
    "    y_ = [y_hat(X, A, B) for X in x_]\n",
    "    plt.plot(x_, y_, 'r')\n",
    "    plt.plot(X, y, 'b0')\n",
    "    \n",
    "#plot_line(X, y, A, B)"
   ]
  },
  {
   "cell_type": "code",
   "execution_count": 8,
   "metadata": {},
   "outputs": [],
   "source": [
    "def MSE(X, y, A, B):\n",
    "    costo = 0\n",
    "    n = float(len(X))\n",
    "    for i in range(0, len(X)):\n",
    "        costo += (y_hat(X[i], A, B) - y[i])**2\n",
    "        \n",
    "    return costo/n"
   ]
  },
  {
   "cell_type": "code",
   "execution_count": 9,
   "metadata": {},
   "outputs": [],
   "source": [
    "def gradDesc_Step(A, B, X, y, alpha):\n",
    "    err_A = 0\n",
    "    err_B = 0\n",
    "    n = float(len(X))\n",
    "    \n",
    "    for i in range(0, len(X)):\n",
    "        err_A += y_hat(X[i], A, B) - y[i]\n",
    "        err_B += (y_hat(X[i], A, B) - y[i]) * X[i]\n",
    "        \n",
    "        Anew = A - alpha *(1/n)*err_A\n",
    "        Bnew = B - alpha *(1/n)*err_B\n",
    "        return Anew, Bnew    "
   ]
  },
  {
   "cell_type": "code",
   "execution_count": 12,
   "metadata": {},
   "outputs": [],
   "source": [
    "#A, B = gradDesc_Step(A, B, X, y, alpha)"
   ]
  },
  {
   "cell_type": "code",
   "execution_count": 11,
   "metadata": {},
   "outputs": [],
   "source": [
    "epoch = 1000"
   ]
  },
  {
   "cell_type": "code",
   "execution_count": 309,
   "metadata": {},
   "outputs": [],
   "source": [
    "def gradDesc(A, B, X, y, alpha, epoch):\n",
    "    costo = np.zeros(epoch)\n",
    "    for i in range(epoch):\n",
    "        A, B = gradDesc_Step(A, B, X, y, alpha)\n",
    "        costo[i] = MSE(X, y, A, B)\n",
    "    return A, B, costo "
   ]
  },
  {
   "cell_type": "code",
   "execution_count": 310,
   "metadata": {},
   "outputs": [],
   "source": [
    "#A, B, costo = gradDesc(A, B, X, y, alpha, epoch)"
   ]
  },
  {
   "cell_type": "code",
   "execution_count": 313,
   "metadata": {},
   "outputs": [],
   "source": [
    "#fig, ax = plt.subplots()\n",
    "#ax.plot(np.arange(epoch), costo, 'r')\n",
    "#ax.set_xlable('Iteraciones')\n",
    "#ax.set_ylabel('Costo')\n",
    "#ax.set_title('MSE vrs Epoch')"
   ]
  },
  {
   "cell_type": "code",
   "execution_count": null,
   "metadata": {},
   "outputs": [],
   "source": []
  },
  {
   "cell_type": "code",
   "execution_count": null,
   "metadata": {},
   "outputs": [],
   "source": []
  }
 ],
 "metadata": {
  "kernelspec": {
   "display_name": "Python 3",
   "language": "python",
   "name": "python3"
  },
  "language_info": {
   "codemirror_mode": {
    "name": "ipython",
    "version": 3
   },
   "file_extension": ".py",
   "mimetype": "text/x-python",
   "name": "python",
   "nbconvert_exporter": "python",
   "pygments_lexer": "ipython3",
   "version": "3.8.5"
  }
 },
 "nbformat": 4,
 "nbformat_minor": 4
}
