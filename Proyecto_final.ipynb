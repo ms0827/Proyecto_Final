{
 "cells": [
  {
   "cell_type": "markdown",
   "metadata": {},
   "source": [
    "## CIENCCIA DE DATOS EN PYTHON\n",
    "### PROYECTO FINAL"
   ]
  },
  {
   "cell_type": "markdown",
   "metadata": {},
   "source": [
    "### Estimacion de Modelo"
   ]
  },
  {
   "cell_type": "markdown",
   "metadata": {},
   "source": [
    "Crear modelos predictivos de regresion lineal uni-variable sencillos"
   ]
  },
  {
   "cell_type": "markdown",
   "metadata": {},
   "source": [
    "Los datos del proyecto pertenecen al ejemplo clasico y muy conocido al iniciar a estudiar ciencia de datos: prediccion de precios de casas."
   ]
  },
  {
   "cell_type": "markdown",
   "metadata": {},
   "source": [
    "###### Variables"
   ]
  },
  {
   "cell_type": "markdown",
   "metadata": {},
   "source": [
    "-- SalePrice = el precio de venta de la propiedad en dolares. Variable objetivo que se necesita predecir."
   ]
  },
  {
   "cell_type": "markdown",
   "metadata": {},
   "source": [
    "-- OverallQual =  calidada de materiales y acabados. Califica el material general y el acabado de la casa.  \n",
    "10 = Very Excellent;  9 = Excellent;  8 = Very Good;  7 = Good;  6 = Above Average;  5 = Average;  4 = Below Average;  3 = Fair;  2 = Poor;  1 = Very Poor"
   ]
  },
  {
   "cell_type": "markdown",
   "metadata": {},
   "source": [
    "-- FlrSF1st = pies cuadrados del primer piso."
   ]
  },
  {
   "cell_type": "markdown",
   "metadata": {},
   "source": [
    "-- TotRmsAbvGrd = total habitaciones (no incluye banos)."
   ]
  },
  {
   "cell_type": "markdown",
   "metadata": {},
   "source": [
    "-- YearBuilt = anio de construccion"
   ]
  },
  {
   "cell_type": "markdown",
   "metadata": {},
   "source": [
    "-- LotFrontage: pies lineales de calle, conectada a la propiedad."
   ]
  },
  {
   "cell_type": "markdown",
   "metadata": {},
   "source": [
    "#### Paso No.1  \n",
    "Exploracion de los datos"
   ]
  },
  {
   "cell_type": "markdown",
   "metadata": {},
   "source": [
    "##### Librerias"
   ]
  },
  {
   "cell_type": "code",
   "execution_count": 503,
   "metadata": {},
   "outputs": [],
   "source": [
    "import pandas as pd \n",
    "import numpy as np \n",
    "import matplotlib.pyplot as plt \n",
    "import seaborn as seabornInstance\n",
    "\n",
    "from sklearn.model_selection import train_test_split\n",
    "from sklearn import linear_model"
   ]
  },
  {
   "cell_type": "markdown",
   "metadata": {},
   "source": [
    "##### Carga de data"
   ]
  },
  {
   "cell_type": "code",
   "execution_count": 507,
   "metadata": {},
   "outputs": [],
   "source": [
    "import numpy as np\n",
    "data_proy = np.load('proyecto_training_data.npy')"
   ]
  },
  {
   "cell_type": "code",
   "execution_count": 508,
   "metadata": {},
   "outputs": [
    {
     "data": {
      "text/plain": [
       "(1460, 6)"
      ]
     },
     "execution_count": 508,
     "metadata": {},
     "output_type": "execute_result"
    }
   ],
   "source": [
    "dimension = data_proy.shape\n",
    "dimension"
   ]
  },
  {
   "cell_type": "code",
   "execution_count": 509,
   "metadata": {},
   "outputs": [
    {
     "data": {
      "text/plain": [
       "2"
      ]
     },
     "execution_count": 509,
     "metadata": {},
     "output_type": "execute_result"
    }
   ],
   "source": [
    "rango = data_proy.ndim\n",
    "rango"
   ]
  },
  {
   "cell_type": "code",
   "execution_count": 510,
   "metadata": {},
   "outputs": [
    {
     "data": {
      "text/plain": [
       "numpy.ndarray"
      ]
     },
     "execution_count": 510,
     "metadata": {},
     "output_type": "execute_result"
    }
   ],
   "source": [
    "type(data_proy)"
   ]
  },
  {
   "cell_type": "markdown",
   "metadata": {},
   "source": [
    "##### Revision de la Data"
   ]
  },
  {
   "cell_type": "markdown",
   "metadata": {},
   "source": [
    "###### Nombrar Variables"
   ]
  },
  {
   "cell_type": "code",
   "execution_count": 511,
   "metadata": {},
   "outputs": [],
   "source": [
    "data_proy = pd.DataFrame(data=data_proy, columns=['SalePrice', 'OverallQual', 'FlrSF1st', 'TotRmsAbvGrd', 'YearBuilt', 'LotFrontage'])"
   ]
  },
  {
   "cell_type": "markdown",
   "metadata": {},
   "source": [
    "###### Reordenar variables"
   ]
  },
  {
   "cell_type": "code",
   "execution_count": 512,
   "metadata": {},
   "outputs": [],
   "source": [
    "data_proy = data_proy[['SalePrice', 'YearBuilt', 'OverallQual', 'FlrSF1st', 'TotRmsAbvGrd', 'LotFrontage']]"
   ]
  },
  {
   "cell_type": "markdown",
   "metadata": {},
   "source": [
    "###### Revisiones valores NaN"
   ]
  },
  {
   "cell_type": "code",
   "execution_count": 513,
   "metadata": {},
   "outputs": [
    {
     "data": {
      "text/plain": [
       "SalePrice       False\n",
       "YearBuilt       False\n",
       "OverallQual     False\n",
       "FlrSF1st        False\n",
       "TotRmsAbvGrd    False\n",
       "LotFrontage      True\n",
       "dtype: bool"
      ]
     },
     "execution_count": 513,
     "metadata": {},
     "output_type": "execute_result"
    }
   ],
   "source": [
    "data_proy.isnull().any()"
   ]
  },
  {
   "cell_type": "markdown",
   "metadata": {},
   "source": [
    "###### Eliminar Valores NaN"
   ]
  },
  {
   "cell_type": "code",
   "execution_count": 514,
   "metadata": {},
   "outputs": [
    {
     "data": {
      "text/html": [
       "<div>\n",
       "<style scoped>\n",
       "    .dataframe tbody tr th:only-of-type {\n",
       "        vertical-align: middle;\n",
       "    }\n",
       "\n",
       "    .dataframe tbody tr th {\n",
       "        vertical-align: top;\n",
       "    }\n",
       "\n",
       "    .dataframe thead th {\n",
       "        text-align: right;\n",
       "    }\n",
       "</style>\n",
       "<table border=\"1\" class=\"dataframe\">\n",
       "  <thead>\n",
       "    <tr style=\"text-align: right;\">\n",
       "      <th></th>\n",
       "      <th>SalePrice</th>\n",
       "      <th>YearBuilt</th>\n",
       "      <th>OverallQual</th>\n",
       "      <th>FlrSF1st</th>\n",
       "      <th>TotRmsAbvGrd</th>\n",
       "      <th>LotFrontage</th>\n",
       "    </tr>\n",
       "  </thead>\n",
       "  <tbody>\n",
       "    <tr>\n",
       "      <th>0</th>\n",
       "      <td>208500.0</td>\n",
       "      <td>2003.0</td>\n",
       "      <td>7.0</td>\n",
       "      <td>856.0</td>\n",
       "      <td>8.0</td>\n",
       "      <td>65.0</td>\n",
       "    </tr>\n",
       "    <tr>\n",
       "      <th>1</th>\n",
       "      <td>181500.0</td>\n",
       "      <td>1976.0</td>\n",
       "      <td>6.0</td>\n",
       "      <td>1262.0</td>\n",
       "      <td>6.0</td>\n",
       "      <td>80.0</td>\n",
       "    </tr>\n",
       "    <tr>\n",
       "      <th>2</th>\n",
       "      <td>223500.0</td>\n",
       "      <td>2001.0</td>\n",
       "      <td>7.0</td>\n",
       "      <td>920.0</td>\n",
       "      <td>6.0</td>\n",
       "      <td>68.0</td>\n",
       "    </tr>\n",
       "    <tr>\n",
       "      <th>3</th>\n",
       "      <td>140000.0</td>\n",
       "      <td>1915.0</td>\n",
       "      <td>7.0</td>\n",
       "      <td>961.0</td>\n",
       "      <td>7.0</td>\n",
       "      <td>60.0</td>\n",
       "    </tr>\n",
       "    <tr>\n",
       "      <th>4</th>\n",
       "      <td>250000.0</td>\n",
       "      <td>2000.0</td>\n",
       "      <td>8.0</td>\n",
       "      <td>1145.0</td>\n",
       "      <td>9.0</td>\n",
       "      <td>84.0</td>\n",
       "    </tr>\n",
       "    <tr>\n",
       "      <th>...</th>\n",
       "      <td>...</td>\n",
       "      <td>...</td>\n",
       "      <td>...</td>\n",
       "      <td>...</td>\n",
       "      <td>...</td>\n",
       "      <td>...</td>\n",
       "    </tr>\n",
       "    <tr>\n",
       "      <th>1455</th>\n",
       "      <td>175000.0</td>\n",
       "      <td>1999.0</td>\n",
       "      <td>6.0</td>\n",
       "      <td>953.0</td>\n",
       "      <td>7.0</td>\n",
       "      <td>62.0</td>\n",
       "    </tr>\n",
       "    <tr>\n",
       "      <th>1456</th>\n",
       "      <td>210000.0</td>\n",
       "      <td>1978.0</td>\n",
       "      <td>6.0</td>\n",
       "      <td>2073.0</td>\n",
       "      <td>7.0</td>\n",
       "      <td>85.0</td>\n",
       "    </tr>\n",
       "    <tr>\n",
       "      <th>1457</th>\n",
       "      <td>266500.0</td>\n",
       "      <td>1941.0</td>\n",
       "      <td>7.0</td>\n",
       "      <td>1188.0</td>\n",
       "      <td>9.0</td>\n",
       "      <td>66.0</td>\n",
       "    </tr>\n",
       "    <tr>\n",
       "      <th>1458</th>\n",
       "      <td>142125.0</td>\n",
       "      <td>1950.0</td>\n",
       "      <td>5.0</td>\n",
       "      <td>1078.0</td>\n",
       "      <td>5.0</td>\n",
       "      <td>68.0</td>\n",
       "    </tr>\n",
       "    <tr>\n",
       "      <th>1459</th>\n",
       "      <td>147500.0</td>\n",
       "      <td>1965.0</td>\n",
       "      <td>5.0</td>\n",
       "      <td>1256.0</td>\n",
       "      <td>6.0</td>\n",
       "      <td>75.0</td>\n",
       "    </tr>\n",
       "  </tbody>\n",
       "</table>\n",
       "<p>1460 rows × 6 columns</p>\n",
       "</div>"
      ],
      "text/plain": [
       "      SalePrice  YearBuilt  OverallQual  FlrSF1st  TotRmsAbvGrd  LotFrontage\n",
       "0      208500.0     2003.0          7.0     856.0           8.0         65.0\n",
       "1      181500.0     1976.0          6.0    1262.0           6.0         80.0\n",
       "2      223500.0     2001.0          7.0     920.0           6.0         68.0\n",
       "3      140000.0     1915.0          7.0     961.0           7.0         60.0\n",
       "4      250000.0     2000.0          8.0    1145.0           9.0         84.0\n",
       "...         ...        ...          ...       ...           ...          ...\n",
       "1455   175000.0     1999.0          6.0     953.0           7.0         62.0\n",
       "1456   210000.0     1978.0          6.0    2073.0           7.0         85.0\n",
       "1457   266500.0     1941.0          7.0    1188.0           9.0         66.0\n",
       "1458   142125.0     1950.0          5.0    1078.0           5.0         68.0\n",
       "1459   147500.0     1965.0          5.0    1256.0           6.0         75.0\n",
       "\n",
       "[1460 rows x 6 columns]"
      ]
     },
     "execution_count": 514,
     "metadata": {},
     "output_type": "execute_result"
    }
   ],
   "source": [
    "data_proy = data_proy.fillna(method='ffill')\n",
    "data_proy"
   ]
  },
  {
   "cell_type": "code",
   "execution_count": 515,
   "metadata": {},
   "outputs": [
    {
     "data": {
      "text/plain": [
       "SalePrice       False\n",
       "YearBuilt       False\n",
       "OverallQual     False\n",
       "FlrSF1st        False\n",
       "TotRmsAbvGrd    False\n",
       "LotFrontage     False\n",
       "dtype: bool"
      ]
     },
     "execution_count": 515,
     "metadata": {},
     "output_type": "execute_result"
    }
   ],
   "source": [
    "data_proy.isnull().any()"
   ]
  },
  {
   "cell_type": "markdown",
   "metadata": {},
   "source": [
    "###### Revision de la data"
   ]
  },
  {
   "cell_type": "code",
   "execution_count": 516,
   "metadata": {},
   "outputs": [
    {
     "data": {
      "text/html": [
       "<div>\n",
       "<style scoped>\n",
       "    .dataframe tbody tr th:only-of-type {\n",
       "        vertical-align: middle;\n",
       "    }\n",
       "\n",
       "    .dataframe tbody tr th {\n",
       "        vertical-align: top;\n",
       "    }\n",
       "\n",
       "    .dataframe thead th {\n",
       "        text-align: right;\n",
       "    }\n",
       "</style>\n",
       "<table border=\"1\" class=\"dataframe\">\n",
       "  <thead>\n",
       "    <tr style=\"text-align: right;\">\n",
       "      <th></th>\n",
       "      <th>SalePrice</th>\n",
       "      <th>YearBuilt</th>\n",
       "      <th>OverallQual</th>\n",
       "      <th>FlrSF1st</th>\n",
       "      <th>TotRmsAbvGrd</th>\n",
       "      <th>LotFrontage</th>\n",
       "    </tr>\n",
       "  </thead>\n",
       "  <tbody>\n",
       "    <tr>\n",
       "      <th>0</th>\n",
       "      <td>208500.0</td>\n",
       "      <td>2003.0</td>\n",
       "      <td>7.0</td>\n",
       "      <td>856.0</td>\n",
       "      <td>8.0</td>\n",
       "      <td>65.0</td>\n",
       "    </tr>\n",
       "    <tr>\n",
       "      <th>1</th>\n",
       "      <td>181500.0</td>\n",
       "      <td>1976.0</td>\n",
       "      <td>6.0</td>\n",
       "      <td>1262.0</td>\n",
       "      <td>6.0</td>\n",
       "      <td>80.0</td>\n",
       "    </tr>\n",
       "    <tr>\n",
       "      <th>2</th>\n",
       "      <td>223500.0</td>\n",
       "      <td>2001.0</td>\n",
       "      <td>7.0</td>\n",
       "      <td>920.0</td>\n",
       "      <td>6.0</td>\n",
       "      <td>68.0</td>\n",
       "    </tr>\n",
       "    <tr>\n",
       "      <th>3</th>\n",
       "      <td>140000.0</td>\n",
       "      <td>1915.0</td>\n",
       "      <td>7.0</td>\n",
       "      <td>961.0</td>\n",
       "      <td>7.0</td>\n",
       "      <td>60.0</td>\n",
       "    </tr>\n",
       "    <tr>\n",
       "      <th>4</th>\n",
       "      <td>250000.0</td>\n",
       "      <td>2000.0</td>\n",
       "      <td>8.0</td>\n",
       "      <td>1145.0</td>\n",
       "      <td>9.0</td>\n",
       "      <td>84.0</td>\n",
       "    </tr>\n",
       "  </tbody>\n",
       "</table>\n",
       "</div>"
      ],
      "text/plain": [
       "   SalePrice  YearBuilt  OverallQual  FlrSF1st  TotRmsAbvGrd  LotFrontage\n",
       "0   208500.0     2003.0          7.0     856.0           8.0         65.0\n",
       "1   181500.0     1976.0          6.0    1262.0           6.0         80.0\n",
       "2   223500.0     2001.0          7.0     920.0           6.0         68.0\n",
       "3   140000.0     1915.0          7.0     961.0           7.0         60.0\n",
       "4   250000.0     2000.0          8.0    1145.0           9.0         84.0"
      ]
     },
     "execution_count": 516,
     "metadata": {},
     "output_type": "execute_result"
    }
   ],
   "source": [
    "data_proy.head()"
   ]
  },
  {
   "cell_type": "markdown",
   "metadata": {},
   "source": [
    "###### Revision de Relaciones"
   ]
  },
  {
   "cell_type": "code",
   "execution_count": 517,
   "metadata": {},
   "outputs": [],
   "source": [
    "#sns.pairplot(data_proy)"
   ]
  },
  {
   "cell_type": "code",
   "execution_count": 518,
   "metadata": {},
   "outputs": [
    {
     "data": {
      "image/png": "[encoded data removed]",
      "text/plain": [
       "<Figure size 432x288 with 1 Axes>"
      ]
     },
     "metadata": {
      "needs_background": "light"
     },
     "output_type": "display_data"
    }
   ],
   "source": [
    "plt.scatter(data_proy['SalePrice'], data_proy['YearBuilt'])\n",
    "plt.xlabel('SalePrice')\n",
    "plt.ylabel('YearBuilt')\n",
    "plt.show()"
   ]
  },
  {
   "cell_type": "code",
   "execution_count": 519,
   "metadata": {},
   "outputs": [
    {
     "data": {
      "image/png": "[encoded data removed]",
      "text/plain": [
       "<Figure size 432x288 with 1 Axes>"
      ]
     },
     "metadata": {
      "needs_background": "light"
     },
     "output_type": "display_data"
    }
   ],
   "source": [
    "plt.scatter(data_proy['SalePrice'], data_proy['OverallQual'])\n",
    "plt.xlabel('SalePrice')\n",
    "plt.ylabel('OverallQual')\n",
    "plt.show()"
   ]
  },
  {
   "cell_type": "code",
   "execution_count": 520,
   "metadata": {},
   "outputs": [
    {
     "data": {
      "image/png": "[encoded data removed]",
      "text/plain": [
       "<Figure size 432x288 with 1 Axes>"
      ]
     },
     "metadata": {
      "needs_background": "light"
     },
     "output_type": "display_data"
    }
   ],
   "source": [
    "plt.scatter(data_proy['SalePrice'], data_proy['FlrSF1st'])\n",
    "plt.xlabel('SalePrice')\n",
    "plt.ylabel('FlrSF1st')\n",
    "plt.show()"
   ]
  },
  {
   "cell_type": "code",
   "execution_count": 521,
   "metadata": {},
   "outputs": [
    {
     "data": {
      "image/png": "[encoded data removed]",
      "text/plain": [
       "<Figure size 432x288 with 1 Axes>"
      ]
     },
     "metadata": {
      "needs_background": "light"
     },
     "output_type": "display_data"
    }
   ],
   "source": [
    "plt.scatter(data_proy['SalePrice'], data_proy['TotRmsAbvGrd'])\n",
    "plt.xlabel('SalePrice')\n",
    "plt.ylabel('TotRmsAbvGrd')\n",
    "plt.show()"
   ]
  },
  {
   "cell_type": "code",
   "execution_count": 522,
   "metadata": {},
   "outputs": [
    {
     "data": {
      "image/png": "[encoded data removed]",
      "text/plain": [
       "<Figure size 432x288 with 1 Axes>"
      ]
     },
     "metadata": {
      "needs_background": "light"
     },
     "output_type": "display_data"
    }
   ],
   "source": [
    "plt.scatter(data_proy['SalePrice'], data_proy['LotFrontage'])\n",
    "plt.xlabel('SalePrice')\n",
    "plt.ylabel('LotFrontage')\n",
    "plt.show()"
   ]
  },
  {
   "cell_type": "code",
   "execution_count": null,
   "metadata": {},
   "outputs": [],
   "source": []
  },
  {
   "cell_type": "code",
   "execution_count": null,
   "metadata": {},
   "outputs": [],
   "source": []
  },
  {
   "cell_type": "markdown",
   "metadata": {},
   "source": [
    "#### Paso No.2  \n",
    "Usando sclicing con NumPy separar los datos en 2 datasets: entrenamiento(80 %) y validacion y pruebas(20 %)"
   ]
  },
  {
   "cell_type": "markdown",
   "metadata": {},
   "source": [
    "#### Separacion de la data"
   ]
  },
  {
   "cell_type": "code",
   "execution_count": 490,
   "metadata": {},
   "outputs": [
    {
     "data": {
      "text/plain": [
       "array([[208500.],\n",
       "       [181500.],\n",
       "       [223500.],\n",
       "       ...,\n",
       "       [266500.],\n",
       "       [142125.],\n",
       "       [147500.]])"
      ]
     },
     "execution_count": 490,
     "metadata": {},
     "output_type": "execute_result"
    }
   ],
   "source": [
    "Y = data_proy['SalePrice'].values.reshape(-1, 1)\n",
    "Y"
   ]
  },
  {
   "cell_type": "code",
   "execution_count": 491,
   "metadata": {},
   "outputs": [
    {
     "data": {
      "text/plain": [
       "array([[2003.,    7.,  856.,    8.,   65.],\n",
       "       [1976.,    6., 1262.,    6.,   80.],\n",
       "       [2001.,    7.,  920.,    6.,   68.],\n",
       "       ...,\n",
       "       [1941.,    7., 1188.,    9.,   66.],\n",
       "       [1950.,    5., 1078.,    5.,   68.],\n",
       "       [1965.,    5., 1256.,    6.,   75.]])"
      ]
     },
     "execution_count": 491,
     "metadata": {},
     "output_type": "execute_result"
    }
   ],
   "source": [
    "X = data_proy.iloc[:, 1:6].values\n",
    "X"
   ]
  },
  {
   "cell_type": "markdown",
   "metadata": {},
   "source": [
    "##### Set de entrenamiento"
   ]
  },
  {
   "cell_type": "code",
   "execution_count": 492,
   "metadata": {},
   "outputs": [],
   "source": [
    "from sklearn.model_selection import train_test_split\n",
    "dataTrain, dataTest, dataTrain_SaleP, dataTest_SaleP = train_test_split(X, Y, test_size = 0.2, shuffle=True, random_state=123)"
   ]
  },
  {
   "cell_type": "code",
   "execution_count": 493,
   "metadata": {},
   "outputs": [
    {
     "data": {
      "text/plain": [
       "array([[1993.,    7., 1372.,    9.,   90.],\n",
       "       [1960.,    6., 1429.,    7.,   81.],\n",
       "       [1977.,    6., 1542.,   11.,   50.],\n",
       "       ...,\n",
       "       [1968.,    7., 2156.,    9.,   50.],\n",
       "       [1972.,    5.,  768.,    5.,   70.],\n",
       "       [1941.,    6.,  869.,    6.,   60.]])"
      ]
     },
     "execution_count": 493,
     "metadata": {},
     "output_type": "execute_result"
    }
   ],
   "source": [
    "dataTrain"
   ]
  },
  {
   "cell_type": "code",
   "execution_count": 494,
   "metadata": {},
   "outputs": [
    {
     "data": {
      "text/plain": [
       "array([[260000.],\n",
       "       [181900.],\n",
       "       [272000.],\n",
       "       ...,\n",
       "       [262500.],\n",
       "       [133000.],\n",
       "       [131000.]])"
      ]
     },
     "execution_count": 494,
     "metadata": {},
     "output_type": "execute_result"
    }
   ],
   "source": [
    "dataTrain_SaleP"
   ]
  },
  {
   "cell_type": "markdown",
   "metadata": {},
   "source": [
    "##### Set de validacion y pruebas"
   ]
  },
  {
   "cell_type": "code",
   "execution_count": 495,
   "metadata": {},
   "outputs": [
    {
     "data": {
      "text/plain": [
       "array([[2001.,    7.,  884.,    8.,   51.],\n",
       "       [1900.,    4., 1095.,    8.,   60.],\n",
       "       [2004.,    7.,  976.,    7.,   32.],\n",
       "       ...,\n",
       "       [1949.,    5.,  672.,    6.,   60.],\n",
       "       [1969.,    5., 1040.,    9.,   70.],\n",
       "       [1941.,    5.,  616.,    5.,   60.]])"
      ]
     },
     "execution_count": 495,
     "metadata": {},
     "output_type": "execute_result"
    }
   ],
   "source": [
    "dataTest"
   ]
  },
  {
   "cell_type": "code",
   "execution_count": 496,
   "metadata": {},
   "outputs": [],
   "source": [
    "#dataTest_SaleP"
   ]
  },
  {
   "cell_type": "code",
   "execution_count": null,
   "metadata": {},
   "outputs": [],
   "source": []
  },
  {
   "cell_type": "code",
   "execution_count": null,
   "metadata": {},
   "outputs": [],
   "source": []
  },
  {
   "cell_type": "markdown",
   "metadata": {},
   "source": [
    "#### Paso No.3"
   ]
  },
  {
   "cell_type": "markdown",
   "metadata": {},
   "source": [
    "#### Analisis Exploratorio de los datos  \n",
    "Analisis exploratorio de datos: Para cada variable en el dataset calcular((usando numpy o pandas): media, valor maximo, valor minimo, rango y desviacion estandar.\n"
   ]
  },
  {
   "cell_type": "code",
   "execution_count": 111,
   "metadata": {},
   "outputs": [
    {
     "data": {
      "text/html": [
       "<div>\n",
       "<style scoped>\n",
       "    .dataframe tbody tr th:only-of-type {\n",
       "        vertical-align: middle;\n",
       "    }\n",
       "\n",
       "    .dataframe tbody tr th {\n",
       "        vertical-align: top;\n",
       "    }\n",
       "\n",
       "    .dataframe thead th {\n",
       "        text-align: right;\n",
       "    }\n",
       "</style>\n",
       "<table border=\"1\" class=\"dataframe\">\n",
       "  <thead>\n",
       "    <tr style=\"text-align: right;\">\n",
       "      <th></th>\n",
       "      <th>SalePrice</th>\n",
       "      <th>YearBuilt</th>\n",
       "      <th>OverallQual</th>\n",
       "      <th>FlrSF1st</th>\n",
       "      <th>TotRmsAbvGrd</th>\n",
       "      <th>LotFrontage</th>\n",
       "    </tr>\n",
       "  </thead>\n",
       "  <tbody>\n",
       "    <tr>\n",
       "      <th>count</th>\n",
       "      <td>1460.000000</td>\n",
       "      <td>1460.000000</td>\n",
       "      <td>1460.000000</td>\n",
       "      <td>1460.000000</td>\n",
       "      <td>1460.000000</td>\n",
       "      <td>1460.000000</td>\n",
       "    </tr>\n",
       "    <tr>\n",
       "      <th>mean</th>\n",
       "      <td>180921.195890</td>\n",
       "      <td>1971.267808</td>\n",
       "      <td>6.099315</td>\n",
       "      <td>1162.626712</td>\n",
       "      <td>6.517808</td>\n",
       "      <td>70.104795</td>\n",
       "    </tr>\n",
       "    <tr>\n",
       "      <th>std</th>\n",
       "      <td>79442.502883</td>\n",
       "      <td>30.202904</td>\n",
       "      <td>1.382997</td>\n",
       "      <td>386.587738</td>\n",
       "      <td>1.625393</td>\n",
       "      <td>23.846996</td>\n",
       "    </tr>\n",
       "    <tr>\n",
       "      <th>min</th>\n",
       "      <td>34900.000000</td>\n",
       "      <td>1872.000000</td>\n",
       "      <td>1.000000</td>\n",
       "      <td>334.000000</td>\n",
       "      <td>2.000000</td>\n",
       "      <td>21.000000</td>\n",
       "    </tr>\n",
       "    <tr>\n",
       "      <th>25%</th>\n",
       "      <td>129975.000000</td>\n",
       "      <td>1954.000000</td>\n",
       "      <td>5.000000</td>\n",
       "      <td>882.000000</td>\n",
       "      <td>5.000000</td>\n",
       "      <td>59.000000</td>\n",
       "    </tr>\n",
       "    <tr>\n",
       "      <th>50%</th>\n",
       "      <td>163000.000000</td>\n",
       "      <td>1973.000000</td>\n",
       "      <td>6.000000</td>\n",
       "      <td>1087.000000</td>\n",
       "      <td>6.000000</td>\n",
       "      <td>70.000000</td>\n",
       "    </tr>\n",
       "    <tr>\n",
       "      <th>75%</th>\n",
       "      <td>214000.000000</td>\n",
       "      <td>2000.000000</td>\n",
       "      <td>7.000000</td>\n",
       "      <td>1391.250000</td>\n",
       "      <td>7.000000</td>\n",
       "      <td>80.000000</td>\n",
       "    </tr>\n",
       "    <tr>\n",
       "      <th>max</th>\n",
       "      <td>755000.000000</td>\n",
       "      <td>2010.000000</td>\n",
       "      <td>10.000000</td>\n",
       "      <td>4692.000000</td>\n",
       "      <td>14.000000</td>\n",
       "      <td>313.000000</td>\n",
       "    </tr>\n",
       "  </tbody>\n",
       "</table>\n",
       "</div>"
      ],
      "text/plain": [
       "           SalePrice    YearBuilt  OverallQual     FlrSF1st  TotRmsAbvGrd  \\\n",
       "count    1460.000000  1460.000000  1460.000000  1460.000000   1460.000000   \n",
       "mean   180921.195890  1971.267808     6.099315  1162.626712      6.517808   \n",
       "std     79442.502883    30.202904     1.382997   386.587738      1.625393   \n",
       "min     34900.000000  1872.000000     1.000000   334.000000      2.000000   \n",
       "25%    129975.000000  1954.000000     5.000000   882.000000      5.000000   \n",
       "50%    163000.000000  1973.000000     6.000000  1087.000000      6.000000   \n",
       "75%    214000.000000  2000.000000     7.000000  1391.250000      7.000000   \n",
       "max    755000.000000  2010.000000    10.000000  4692.000000     14.000000   \n",
       "\n",
       "       LotFrontage  \n",
       "count  1460.000000  \n",
       "mean     70.104795  \n",
       "std      23.846996  \n",
       "min      21.000000  \n",
       "25%      59.000000  \n",
       "50%      70.000000  \n",
       "75%      80.000000  \n",
       "max     313.000000  "
      ]
     },
     "execution_count": 111,
     "metadata": {},
     "output_type": "execute_result"
    }
   ],
   "source": [
    "# Informacion estadistica de la data\n",
    "data_proy.describe()"
   ]
  },
  {
   "cell_type": "markdown",
   "metadata": {},
   "source": [
    "##### Variable 1 = SalePrice"
   ]
  },
  {
   "cell_type": "code",
   "execution_count": 142,
   "metadata": {},
   "outputs": [
    {
     "name": "stdout",
     "output_type": "stream",
     "text": [
      "Media SalePrice: 180921.19589041095\n",
      "Desviacion Estandar SalePrice: 79442.50288288663\n",
      "Valor Minimo SalePrice: 34900.0\n",
      "Valor Maximo SalePrice: 755000.0\n",
      "Rango SalePrice: 720100.0\n"
     ]
    }
   ],
   "source": [
    "print('Media SalePrice:', data_proy[\"SalePrice\"].mean())\n",
    "print('Desviacion Estandar SalePrice:', data_proy[\"SalePrice\"].std(ddof=1))\n",
    "print('Valor Minimo SalePrice:', data_proy[\"SalePrice\"].min())\n",
    "print('Valor Maximo SalePrice:', data_proy[\"SalePrice\"].max())\n",
    "print('Rango SalePrice:', data_proy[\"SalePrice\"].max() - data_proy[\"SalePrice\"].min())"
   ]
  },
  {
   "cell_type": "code",
   "execution_count": 162,
   "metadata": {},
   "outputs": [],
   "source": [
    "#Comprobacion\n",
    "#data_proy.describe()['SalePrice']"
   ]
  },
  {
   "cell_type": "markdown",
   "metadata": {},
   "source": [
    "##### Variable 2 = YearBuilt"
   ]
  },
  {
   "cell_type": "code",
   "execution_count": 146,
   "metadata": {},
   "outputs": [
    {
     "name": "stdout",
     "output_type": "stream",
     "text": [
      "Media YearBuilt: 1971.267808219178\n",
      "Desviacion Estandar YearBuilt: 30.202904042525265\n",
      "Valor Minimo YearBuilt: 1872.0\n",
      "Valor Maximo YearBuilt: 2010.0\n",
      "Rango YearBuilt: 138.0\n"
     ]
    }
   ],
   "source": [
    "print('Media YearBuilt:', data_proy[\"YearBuilt\"].mean())\n",
    "print('Desviacion Estandar YearBuilt:', data_proy[\"YearBuilt\"].std(ddof=1))\n",
    "print('Valor Minimo YearBuilt:', data_proy[\"YearBuilt\"].min())\n",
    "print('Valor Maximo YearBuilt:', data_proy[\"YearBuilt\"].max())\n",
    "print('Rango YearBuilt:', data_proy[\"YearBuilt\"].max() - data_proy[\"YearBuilt\"].min())"
   ]
  },
  {
   "cell_type": "code",
   "execution_count": 163,
   "metadata": {},
   "outputs": [],
   "source": [
    "#Comprobacion\n",
    "#data_proy.describe()['YearBuilt']"
   ]
  },
  {
   "cell_type": "markdown",
   "metadata": {},
   "source": [
    "##### Variable 3 = OverallQual"
   ]
  },
  {
   "cell_type": "code",
   "execution_count": 151,
   "metadata": {},
   "outputs": [
    {
     "name": "stdout",
     "output_type": "stream",
     "text": [
      "Media OverallQual: 6.0993150684931505\n",
      "Desviacion Estandar: 1.3829965467415923\n",
      "Valor Minimo OverallQual: 1.0\n",
      "Valor Maximo OverallQual: 10.0\n",
      "Rango OverallQual: 9.0\n"
     ]
    }
   ],
   "source": [
    "print('Media OverallQual:', data_proy[\"OverallQual\"].mean())\n",
    "print('Desviacion Estandar:', data_proy[\"OverallQual\"].std(ddof=1))\n",
    "print('Valor Minimo OverallQual:', data_proy[\"OverallQual\"].min())\n",
    "print('Valor Maximo OverallQual:', data_proy[\"OverallQual\"].max())\n",
    "print('Rango OverallQual:', data_proy[\"OverallQual\"].max() - data_proy[\"OverallQual\"].min())"
   ]
  },
  {
   "cell_type": "code",
   "execution_count": 164,
   "metadata": {},
   "outputs": [],
   "source": [
    "#Comprobacion\n",
    "#data_proy.describe()['OverallQual']"
   ]
  },
  {
   "cell_type": "markdown",
   "metadata": {},
   "source": [
    "##### Variable 4 = FlrSF1st"
   ]
  },
  {
   "cell_type": "code",
   "execution_count": 153,
   "metadata": {},
   "outputs": [
    {
     "name": "stdout",
     "output_type": "stream",
     "text": [
      "Media FlrSF1st: 1162.626712328767\n",
      "Desviacion Estandar: 386.5877380410738\n",
      "Valor Minimo FlrSF1st: 334.0\n",
      "Valor Maximo FlrSF1st: 4692.0\n",
      "Rango FlrSF1st: 4358.0\n"
     ]
    }
   ],
   "source": [
    "print('Media FlrSF1st:', data_proy[\"FlrSF1st\"].mean())\n",
    "print('Desviacion Estandar:', data_proy[\"FlrSF1st\"].std(ddof=1))\n",
    "print('Valor Minimo FlrSF1st:', data_proy[\"FlrSF1st\"].min())\n",
    "print('Valor Maximo FlrSF1st:', data_proy[\"FlrSF1st\"].max())\n",
    "print('Rango FlrSF1st:', data_proy[\"FlrSF1st\"].max() - data_proy[\"FlrSF1st\"].min())"
   ]
  },
  {
   "cell_type": "code",
   "execution_count": 165,
   "metadata": {},
   "outputs": [],
   "source": [
    "#Comprobacion\n",
    "#data_proy.describe()['FlrSF1st']"
   ]
  },
  {
   "cell_type": "markdown",
   "metadata": {},
   "source": [
    "##### Variable 5 = TotRmsAbvGrd"
   ]
  },
  {
   "cell_type": "code",
   "execution_count": 155,
   "metadata": {},
   "outputs": [
    {
     "name": "stdout",
     "output_type": "stream",
     "text": [
      "Media TotRmsAbvGrd: 6.517808219178082\n",
      "Desviacion Estandar TotRmsAbvGrd: 1.625393290584064\n",
      "Valor Minimo TotRmsAbvGrd: 2.0\n",
      "Valor Maximo TotRmsAbvGrd: 14.0\n",
      "Rango: 12.0\n"
     ]
    }
   ],
   "source": [
    "print('Media TotRmsAbvGrd:', data_proy[\"TotRmsAbvGrd\"].mean())\n",
    "print('Desviacion Estandar TotRmsAbvGrd:', data_proy[\"TotRmsAbvGrd\"].std(ddof=1))\n",
    "print('Valor Minimo TotRmsAbvGrd:', data_proy[\"TotRmsAbvGrd\"].min())\n",
    "print('Valor Maximo TotRmsAbvGrd:', data_proy[\"TotRmsAbvGrd\"].max())\n",
    "print('Rango:', data_proy[\"TotRmsAbvGrd\"].max() - data_proy[\"TotRmsAbvGrd\"].min())"
   ]
  },
  {
   "cell_type": "code",
   "execution_count": 166,
   "metadata": {},
   "outputs": [],
   "source": [
    "# Comprobacion\n",
    "#data_proy.describe()['TotRmsAbvGrd']"
   ]
  },
  {
   "cell_type": "markdown",
   "metadata": {},
   "source": [
    "##### Variable 6 = LotFrontage"
   ]
  },
  {
   "cell_type": "code",
   "execution_count": 161,
   "metadata": {},
   "outputs": [
    {
     "name": "stdout",
     "output_type": "stream",
     "text": [
      "Media LotFrontage: 70.10479452054794\n",
      "Desviacion Estandar: 23.846995813891137\n",
      "Valor Minimo LotFrontage: 21.0\n",
      "Valor Maximo LotFrontage: 313.0\n",
      "Rango: 292.0\n"
     ]
    }
   ],
   "source": [
    "print('Media LotFrontage:', data_proy[\"LotFrontage\"].mean())\n",
    "print('Desviacion Estandar:', data_proy[\"LotFrontage\"].std(ddof=1))\n",
    "print('Valor Minimo LotFrontage:', data_proy[\"LotFrontage\"].min())\n",
    "print('Valor Maximo LotFrontage:', data_proy[\"LotFrontage\"].max())\n",
    "print('Rango:', data_proy[\"LotFrontage\"].max() - data_proy[\"LotFrontage\"].min())"
   ]
  },
  {
   "cell_type": "code",
   "execution_count": 167,
   "metadata": {},
   "outputs": [],
   "source": [
    "# Comprobacion\n",
    "#data_proy.describe()['LotFrontage']"
   ]
  },
  {
   "cell_type": "markdown",
   "metadata": {},
   "source": [
    "#### Paso No.4  \n",
    "Para cada variable en el dataset usar seaborn para graficar un histograma de la variable.\n",
    "1) SalePrice  \n",
    "2) YearBuilt  \n",
    "3) OverallQual  \n",
    "4) FlrSF1st  \n",
    "5) TotRmsAbvGrd  \n",
    "6) LotFrontage"
   ]
  },
  {
   "cell_type": "markdown",
   "metadata": {},
   "source": [
    "#### Generacion de Histogramas  "
   ]
  },
  {
   "cell_type": "code",
   "execution_count": 213,
   "metadata": {},
   "outputs": [],
   "source": [
    "import seaborn as sns\n",
    "import matplotlib.pyplot as plt"
   ]
  },
  {
   "cell_type": "markdown",
   "metadata": {},
   "source": [
    "##### Variable SalePrice"
   ]
  },
  {
   "cell_type": "code",
   "execution_count": 214,
   "metadata": {},
   "outputs": [
    {
     "data": {
      "text/plain": [
       "<AxesSubplot:xlabel='SalePrice', ylabel='Count'>"
      ]
     },
     "execution_count": 214,
     "metadata": {},
     "output_type": "execute_result"
    },
    {
     "data": {
      "image/png": "[encoded data removed]",
      "text/plain": [
       "<Figure size 432x288 with 1 Axes>"
      ]
     },
     "metadata": {
      "needs_background": "light"
     },
     "output_type": "display_data"
    }
   ],
   "source": [
    "sns.histplot(data = data_proy[\"SalePrice\"], x = data_proy[\"SalePrice\"], kde=True)"
   ]
  },
  {
   "cell_type": "markdown",
   "metadata": {},
   "source": [
    "##### Variable YearBuilt"
   ]
  },
  {
   "cell_type": "code",
   "execution_count": 215,
   "metadata": {},
   "outputs": [
    {
     "data": {
      "text/plain": [
       "<AxesSubplot:xlabel='YearBuilt', ylabel='Count'>"
      ]
     },
     "execution_count": 215,
     "metadata": {},
     "output_type": "execute_result"
    },
    {
     "data": {
      "image/png": "[encoded data removed]",
      "text/plain": [
       "<Figure size 432x288 with 1 Axes>"
      ]
     },
     "metadata": {
      "needs_background": "light"
     },
     "output_type": "display_data"
    }
   ],
   "source": [
    "sns.histplot(data = data_proy[\"YearBuilt\"], x = data_proy[\"YearBuilt\"], kde=True)"
   ]
  },
  {
   "cell_type": "markdown",
   "metadata": {},
   "source": [
    "##### Variable OverallQual"
   ]
  },
  {
   "cell_type": "code",
   "execution_count": 216,
   "metadata": {},
   "outputs": [
    {
     "data": {
      "text/plain": [
       "<AxesSubplot:xlabel='OverallQual', ylabel='Count'>"
      ]
     },
     "execution_count": 216,
     "metadata": {},
     "output_type": "execute_result"
    },
    {
     "data": {
      "image/png": "[encoded data removed]",
      "text/plain": [
       "<Figure size 432x288 with 1 Axes>"
      ]
     },
     "metadata": {
      "needs_background": "light"
     },
     "output_type": "display_data"
    }
   ],
   "source": [
    "sns.histplot(data = data_proy[\"OverallQual\"], x = data_proy[\"OverallQual\"], kde=True)"
   ]
  },
  {
   "cell_type": "markdown",
   "metadata": {},
   "source": [
    "##### Variable FlrSF1st"
   ]
  },
  {
   "cell_type": "code",
   "execution_count": 217,
   "metadata": {},
   "outputs": [
    {
     "data": {
      "text/plain": [
       "<AxesSubplot:xlabel='FlrSF1st', ylabel='Count'>"
      ]
     },
     "execution_count": 217,
     "metadata": {},
     "output_type": "execute_result"
    },
    {
     "data": {
      "image/png": "[encoded data removed]",
      "text/plain": [
       "<Figure size 432x288 with 1 Axes>"
      ]
     },
     "metadata": {
      "needs_background": "light"
     },
     "output_type": "display_data"
    }
   ],
   "source": [
    "sns.histplot(data = data_proy[\"FlrSF1st\"], x = data_proy[\"FlrSF1st\"], kde=True)"
   ]
  },
  {
   "cell_type": "markdown",
   "metadata": {},
   "source": [
    "##### Variable TotRmsAbvGrd"
   ]
  },
  {
   "cell_type": "code",
   "execution_count": 219,
   "metadata": {},
   "outputs": [
    {
     "data": {
      "text/plain": [
       "<AxesSubplot:xlabel='TotRmsAbvGrd', ylabel='Count'>"
      ]
     },
     "execution_count": 219,
     "metadata": {},
     "output_type": "execute_result"
    },
    {
     "data": {
      "image/png": "[encoded data removed]",
      "text/plain": [
       "<Figure size 432x288 with 1 Axes>"
      ]
     },
     "metadata": {
      "needs_background": "light"
     },
     "output_type": "display_data"
    }
   ],
   "source": [
    "sns.histplot(data = data_proy[\"TotRmsAbvGrd\"], x = data_proy[\"TotRmsAbvGrd\"], kde=True)"
   ]
  },
  {
   "cell_type": "markdown",
   "metadata": {},
   "source": [
    "##### Variable LotFrontage"
   ]
  },
  {
   "cell_type": "code",
   "execution_count": 220,
   "metadata": {},
   "outputs": [
    {
     "data": {
      "text/plain": [
       "<AxesSubplot:xlabel='LotFrontage', ylabel='Count'>"
      ]
     },
     "execution_count": 220,
     "metadata": {},
     "output_type": "execute_result"
    },
    {
     "data": {
      "image/png": "[encoded data removed]",
      "text/plain": [
       "<Figure size 432x288 with 1 Axes>"
      ]
     },
     "metadata": {
      "needs_background": "light"
     },
     "output_type": "display_data"
    }
   ],
   "source": [
    "sns.histplot(data = data_proy[\"LotFrontage\"], x = data_proy[\"LotFrontage\"], kde=True)"
   ]
  },
  {
   "cell_type": "markdown",
   "metadata": {},
   "source": [
    "#### Paso No.5 Regresion  \n",
    "Para cada variable independiente X :\n",
    "\n",
    "1) Calcular el coeficiente de correlacion entre X y Y,  \n",
    "2) Graficar X vs Y (scatterplot) usando matplotlib,  \n",
    "3) Colocar el coeficiente de correlacion y colocarlo como parte del tıtulo de la grafica,  \n",
    "4) Basado en la grafica y el coeficiente de correlacion de cada par X ,Y elegir las 2 variables con mas potencial predictivo.\n",
    "Es decir las 2 variables que presentan mayor correlacionentre dicha variable y la variable dependiente."
   ]
  },
  {
   "cell_type": "code",
   "execution_count": 290,
   "metadata": {},
   "outputs": [],
   "source": [
    "#sns.pairplot(data_proy)"
   ]
  },
  {
   "cell_type": "code",
   "execution_count": 505,
   "metadata": {},
   "outputs": [],
   "source": [
    "from sklearn.linear_model import LinearRegression\n",
    "from sklearn.model_selection import train_test_split\n",
    "from sklearn import metrics\n",
    "import matplotlib.pyplot as plt"
   ]
  },
  {
   "cell_type": "code",
   "execution_count": null,
   "metadata": {},
   "outputs": [],
   "source": [
    "#Base de datos\n",
    "#dataTrain\n",
    "#dataTest\n",
    "#dataTrain_SaleP\n",
    "#dataTest_SaleP"
   ]
  },
  {
   "cell_type": "markdown",
   "metadata": {},
   "source": [
    "##### Regresion Lineal Multiple"
   ]
  },
  {
   "cell_type": "code",
   "execution_count": 523,
   "metadata": {},
   "outputs": [
    {
     "name": "stdout",
     "output_type": "stream",
     "text": [
      "R2: 0.7279345706773444\n"
     ]
    }
   ],
   "source": [
    "YM = data_proy['SalePrice'].values.reshape(-1, 1)\n",
    "XM = data_proy.iloc[:, 1:6].values.reshape(-1, 5)\n",
    "\n",
    "dataTrain, dataTest, dataTrain_SaleP, dataTest_SaleP = train_test_split(XM, YM, test_size = 0.2, shuffle=True, random_state=123)\n",
    "\n",
    "lmm = LinearRegression()\n",
    "lmm.fit(XM, YM)\n",
    "lmm.coef_\n",
    "lmm.intercept_\n",
    "print('R2:', lmm.score(dataTrain, dataTrain_SaleP))"
   ]
  },
  {
   "cell_type": "markdown",
   "metadata": {},
   "source": [
    "##### Regresion Lineal Simple"
   ]
  },
  {
   "cell_type": "markdown",
   "metadata": {},
   "source": [
    "##### X1 = YearBuilt"
   ]
  },
  {
   "cell_type": "code",
   "execution_count": 565,
   "metadata": {},
   "outputs": [
    {
     "name": "stdout",
     "output_type": "stream",
     "text": [
      "Coeficiente_X1: [[1374.17806927]]\n",
      "Intercepto_X1: [-2527649.07554854]\n",
      "R2_X1: 0.26656816000756756\n",
      "Mean Squared Error 4532326388.98649\n"
     ]
    }
   ],
   "source": [
    "X1 = dataTrain[:, np.newaxis, 0]\n",
    "X1t = dataTest[:, np.newaxis, 0]\n",
    "Y0 = dataTrain_SaleP\n",
    "\n",
    "lm1 = LinearRegression()\n",
    "lm1.fit(X1, Y0)\n",
    "Y1 = lm1.predict(X1t)\n",
    "\n",
    "print('Coeficiente_X1:', lm1.coef_)\n",
    "print('Intercepto_X1:', lm1.intercept_)\n",
    "print('R2_X1:', lm1.score(X1t, dataTest_SaleP))\n",
    "\n",
    "mse = metrics.mean_squared_error(dataTest_SaleP, Y1)\n",
    "print(\"Mean Squared Error {}\".format(mse))\n",
    "#print(\"Predicciones {}\".format(Y1[:5]))\n",
    "#print(\"Valores Reales {}\".format(dataTest_SaleP[:5]))\n"
   ]
  },
  {
   "cell_type": "code",
   "execution_count": 583,
   "metadata": {},
   "outputs": [
    {
     "data": {
      "text/plain": [
       "[<matplotlib.lines.Line2D at 0x29a5a318b80>]"
      ]
     },
     "execution_count": 583,
     "metadata": {},
     "output_type": "execute_result"
    },
    {
     "data": {
      "image/png": "[encoded data removed]",
      "text/plain": [
       "<Figure size 432x288 with 1 Axes>"
      ]
     },
     "metadata": {
      "needs_background": "light"
     },
     "output_type": "display_data"
    }
   ],
   "source": [
    "plt.scatter(X1, Y0)\n",
    "plt.title('Coeficiente')\n",
    "plt.xlabel('YearBuilt')\n",
    "plt.ylabel('SalePrice')\n",
    "plt.plot(X1t, Y1, color='red', linewidth=3)"
   ]
  },
  {
   "cell_type": "markdown",
   "metadata": {},
   "source": [
    "##### X2 = OverallQual"
   ]
  },
  {
   "cell_type": "code",
   "execution_count": 568,
   "metadata": {},
   "outputs": [
    {
     "name": "stdout",
     "output_type": "stream",
     "text": [
      "Coeficiente_X2: [[44813.4594101]]\n",
      "Intercepto_X2: [-92345.76508706]\n",
      "R2_X2: 0.6378891970225264\n",
      "Mean Squared Error 2237705344.3559594\n"
     ]
    }
   ],
   "source": [
    "X2 = dataTrain[:, np.newaxis, 1]\n",
    "X2t =  dataTest[:, np.newaxis, 1]\n",
    "Y0 = dataTrain_SaleP\n",
    "lm2 = LinearRegression()\n",
    "lm2.fit(X2, Y0)\n",
    "Y2 = lm2.predict(X2t)\n",
    "\n",
    "print('Coeficiente_X2:', lm2.coef_)\n",
    "print('Intercepto_X2:', lm2.intercept_)\n",
    "print('R2_X2:', lm2.score(X2t, dataTest_SaleP))\n",
    "\n",
    "mse = metrics.mean_squared_error(dataTest_SaleP, Y2)\n",
    "print(\"Mean Squared Error {}\".format(mse))\n",
    "#print(\"Predicciones {}\".format(Y2[:5]))\n",
    "#print(\"Valores Reales {}\".format(dataTest_SaleP[:5]))\n"
   ]
  },
  {
   "cell_type": "code",
   "execution_count": 569,
   "metadata": {},
   "outputs": [
    {
     "data": {
      "text/plain": [
       "[<matplotlib.lines.Line2D at 0x29a59f11c70>]"
      ]
     },
     "execution_count": 569,
     "metadata": {},
     "output_type": "execute_result"
    },
    {
     "data": {
      "image/png": "[encoded data removed]",
      "text/plain": [
       "<Figure size 432x288 with 1 Axes>"
      ]
     },
     "metadata": {
      "needs_background": "light"
     },
     "output_type": "display_data"
    }
   ],
   "source": [
    "plt.scatter(X2, Y0)\n",
    "plt.title('Coeficiente')\n",
    "plt.xlabel('OverallQual')\n",
    "plt.ylabel('SalePrice')\n",
    "plt.plot(X2t, Y2, color='red', linewidth=3)"
   ]
  },
  {
   "cell_type": "markdown",
   "metadata": {},
   "source": [
    "##### X3 = FlrSF1st"
   ]
  },
  {
   "cell_type": "code",
   "execution_count": 570,
   "metadata": {},
   "outputs": [
    {
     "name": "stdout",
     "output_type": "stream",
     "text": [
      "Coeficiente_X3: [[124.63473898]]\n",
      "Intercepto_X3: [35077.7487892]\n",
      "R2_X3: 0.2951740790681032\n",
      "Mean Squared Error 4355552822.896674\n"
     ]
    }
   ],
   "source": [
    "X3 = dataTrain[:, np.newaxis, 2]\n",
    "X3t = dataTest[:, np.newaxis, 2]\n",
    "Y0 = dataTrain_SaleP\n",
    "lm3 = LinearRegression()\n",
    "lm3.fit(X3, Y0)\n",
    "Y3 = lm3.predict(X3t)\n",
    "\n",
    "print('Coeficiente_X3:', lm3.coef_)\n",
    "print('Intercepto_X3:', lm3.intercept_)\n",
    "print('R2_X3:', lm3.score(X3t, dataTest_SaleP))\n",
    "\n",
    "mse = metrics.mean_squared_error(dataTest_SaleP, Y3)\n",
    "print(\"Mean Squared Error {}\".format(mse))\n",
    "#print(\"Predicciones {}\".format(Y3[:5]))\n",
    "#print(\"Valores Reales {}\".format(dataTest_SaleP[:5]))"
   ]
  },
  {
   "cell_type": "code",
   "execution_count": 577,
   "metadata": {},
   "outputs": [
    {
     "data": {
      "text/plain": [
       "[<matplotlib.lines.Line2D at 0x29a5a175580>]"
      ]
     },
     "execution_count": 577,
     "metadata": {},
     "output_type": "execute_result"
    },
    {
     "data": {
      "image/png": "[encoded data removed]",
      "text/plain": [
       "<Figure size 432x288 with 1 Axes>"
      ]
     },
     "metadata": {
      "needs_background": "light"
     },
     "output_type": "display_data"
    }
   ],
   "source": [
    "plt.scatter(X3, Y0)\n",
    "plt.title('Coeficiente')\n",
    "plt.xlabel('FlrSF1st')\n",
    "plt.ylabel('SalePrice')\n",
    "plt.plot(X3t, Y3, color='red', linewidth=3)"
   ]
  },
  {
   "cell_type": "markdown",
   "metadata": {},
   "source": [
    "##### X4 = TotRmsAbvGrd"
   ]
  },
  {
   "cell_type": "code",
   "execution_count": 556,
   "metadata": {},
   "outputs": [
    {
     "name": "stdout",
     "output_type": "stream",
     "text": [
      "Coeficiente_X4: [[25155.38306682]]\n",
      "Intercepto_X4: [16194.83369227]\n",
      "R2_X4: 0.34154368862672024\n",
      "Mean Squared Error 4069006488.8137574\n"
     ]
    }
   ],
   "source": [
    "X4 = dataTrain[:, np.newaxis, 3]\n",
    "X4t = dataTest[:, np.newaxis, 3]\n",
    "Y0 = dataTrain_SaleP\n",
    "lm4 = LinearRegression()\n",
    "lm4.fit(X4, Y0)\n",
    "Y4 = lm4.predict(X4t)\n",
    "\n",
    "print('Coeficiente_X4:', lm4.coef_)\n",
    "print('Intercepto_X4:', lm4.intercept_)\n",
    "print('R2_X4:', lm4.score(X4t, dataTest_SaleP))\n",
    "\n",
    "mse = metrics.mean_squared_error(dataTest_SaleP, Y4)\n",
    "print(\"Mean Squared Error {}\".format(mse))\n",
    "#print(\"Predicciones {}\".format(Y4[:5]))\n",
    "#print(\"Valores Reales {}\".format(dataTest_SaleP[:5]))"
   ]
  },
  {
   "cell_type": "code",
   "execution_count": 579,
   "metadata": {},
   "outputs": [
    {
     "data": {
      "text/plain": [
       "[<matplotlib.lines.Line2D at 0x29a5a21b3a0>]"
      ]
     },
     "execution_count": 579,
     "metadata": {},
     "output_type": "execute_result"
    },
    {
     "data": {
      "image/png": "[encoded data removed]",
      "text/plain": [
       "<Figure size 432x288 with 1 Axes>"
      ]
     },
     "metadata": {
      "needs_background": "light"
     },
     "output_type": "display_data"
    }
   ],
   "source": [
    "plt.scatter(X4, Y0)\n",
    "plt.title('Coeficiente')\n",
    "plt.xlabel('TotRmsAbvGrd')\n",
    "plt.ylabel('SalePrice')\n",
    "plt.plot(X4t, Y4, color='red', linewidth=3)"
   ]
  },
  {
   "cell_type": "markdown",
   "metadata": {},
   "source": [
    "##### X5 = LotFrontage"
   ]
  },
  {
   "cell_type": "code",
   "execution_count": 580,
   "metadata": {},
   "outputs": [
    {
     "name": "stdout",
     "output_type": "stream",
     "text": [
      "Coeficiente_X5: [[1115.95485882]]\n",
      "Intercepto_X5: [103226.99839941]\n",
      "R2_X5: 0.033333091064838394\n",
      "Mean Squared Error 5973629316.082104\n"
     ]
    }
   ],
   "source": [
    "X5 = dataTrain[:, np.newaxis, 4]\n",
    "X5t = dataTest[:, np.newaxis, 4]\n",
    "Y0 = dataTrain_SaleP\n",
    "lm5 = LinearRegression()\n",
    "lm5.fit(X5, Y0)\n",
    "Y5 = lm5.predict(X5t)\n",
    "\n",
    "print('Coeficiente_X5:', lm5.coef_)\n",
    "print('Intercepto_X5:', lm5.intercept_)\n",
    "print('R2_X5:', lm5.score(X5t, dataTest_SaleP))\n",
    "\n",
    "mse = metrics.mean_squared_error(dataTest_SaleP, Y5)\n",
    "print(\"Mean Squared Error {}\".format(mse))\n",
    "#print(\"Predicciones {}\".format(Y5[:5]))\n",
    "#print(\"Valores Reales {}\".format(dataTest_SaleP[:5]))"
   ]
  },
  {
   "cell_type": "code",
   "execution_count": 582,
   "metadata": {},
   "outputs": [
    {
     "data": {
      "text/plain": [
       "[<matplotlib.lines.Line2D at 0x29a5a2b6f70>]"
      ]
     },
     "execution_count": 582,
     "metadata": {},
     "output_type": "execute_result"
    },
    {
     "data": {
      "image/png": "[encoded data removed]",
      "text/plain": [
       "<Figure size 432x288 with 1 Axes>"
      ]
     },
     "metadata": {
      "needs_background": "light"
     },
     "output_type": "display_data"
    }
   ],
   "source": [
    "plt.scatter(X5, Y0)\n",
    "plt.title('Coeficiente')\n",
    "plt.xlabel('LotFrontage')\n",
    "plt.ylabel('SalePrice')\n",
    "plt.plot(X5t, Y5, color='red', linewidth=3)"
   ]
  },
  {
   "cell_type": "markdown",
   "metadata": {},
   "source": [
    "Con la informacion proporcionada para realizar el analisis de datos y estuadiado el comportamiento de cada uno de las variables que componen los datos, se puede concluir de acuerdo a la bondada de ajuste de los modelos estimados las variables se comportaron de la siguiente manera:\n",
    "\n",
    "1) Anio de construccion (YearBuilt) = 0.26656816000756756  \n",
    "2) Calidada de materiales y acabados (OverallQual) = 0.6378891970225264  \n",
    "3) Pies cuadrados del primer piso (FlrSF1st) = 0.2951740790681032  \n",
    "4) Total habitaciones (TotRmsAbvGrd) = 0.34154368862672024  \n",
    "5) Pies lineales de calle (LotFrontage) = 0.033333091064838394 \n"
   ]
  },
  {
   "cell_type": "code",
   "execution_count": null,
   "metadata": {},
   "outputs": [],
   "source": []
  },
  {
   "cell_type": "code",
   "execution_count": null,
   "metadata": {},
   "outputs": [],
   "source": []
  },
  {
   "cell_type": "code",
   "execution_count": null,
   "metadata": {},
   "outputs": [],
   "source": [
    "#### Paso No.6 Crear Funcion  \n",
    "Crear una funcion para entrenar un modelo de regresion lineal de una variable y = β0 +β1 ∗x."
   ]
  },
  {
   "cell_type": "code",
   "execution_count": null,
   "metadata": {},
   "outputs": [],
   "source": [
    "#Base de datos\n",
    "#dataTrain\n",
    "#dataTest\n",
    "#dataTrain_SaleP\n",
    "#dataTest_SaleP"
   ]
  },
  {
   "cell_type": "code",
   "execution_count": 592,
   "metadata": {},
   "outputs": [],
   "source": [
    "X1 = dataTrain[:, np.newaxis, 0]\n",
    "X1t = dataTest[:, np.newaxis, 0]\n",
    "Y0 = dataTrain_SaleP"
   ]
  },
  {
   "cell_type": "code",
   "execution_count": 594,
   "metadata": {},
   "outputs": [
    {
     "name": "stdout",
     "output_type": "stream",
     "text": [
      "[[1.993e+03 1.000e+00]\n",
      " [1.960e+03 1.000e+00]\n",
      " [1.977e+03 1.000e+00]\n",
      " ...\n",
      " [1.968e+03 1.000e+00]\n",
      " [1.972e+03 1.000e+00]\n",
      " [1.941e+03 1.000e+00]]\n"
     ]
    }
   ],
   "source": [
    "#Vectorizacion de Variables\n",
    "#Vector con la variable independiente x,\n",
    "def vectorizacion(x):\n",
    "    n = len(x)\n",
    "    x = np.hstack([x, np.ones_like(x)])\n",
    "    return x\n",
    "\n",
    "print(vectorizacion(X1))       "
   ]
  },
  {
   "cell_type": "code",
   "execution_count": 596,
   "metadata": {},
   "outputs": [
    {
     "name": "stdout",
     "output_type": "stream",
     "text": [
      "[[2.600e+05 1.000e+00]\n",
      " [1.819e+05 1.000e+00]\n",
      " [2.720e+05 1.000e+00]\n",
      " ...\n",
      " [2.625e+05 1.000e+00]\n",
      " [1.330e+05 1.000e+00]\n",
      " [1.310e+05 1.000e+00]]\n"
     ]
    }
   ],
   "source": [
    "#Vectorizacion de Variables\n",
    "#Vector con la variable dependiente y,\n",
    "def vectorizacion(y):\n",
    "    n = len(y)\n",
    "    y = np.hstack([y, np.ones_like(y)])\n",
    "    return y\n",
    "\n",
    "print(vectorizacion(Y0)) "
   ]
  },
  {
   "cell_type": "code",
   "execution_count": null,
   "metadata": {},
   "outputs": [],
   "source": [
    "def funGrad(x, y, theta):\n",
    "    m=len(x)\n",
    "    x_b=np.hstack([x,np.ones_like(x)])\n",
    "    b0_grad=np.sum((x_b.dot(theta) - y)) / (m)\n",
    "    b1_grad=np.sum(np.transpose((x_b.dot(theta) - y)) * (np.transpose(np.transpose(x_b)[1]))) / (m)\n",
    "    return b1_grad,b0_grad\n",
    "print(funGrad(X_train,y_train,[[134],[25]]))"
   ]
  },
  {
   "cell_type": "code",
   "execution_count": null,
   "metadata": {},
   "outputs": [],
   "source": []
  },
  {
   "cell_type": "code",
   "execution_count": null,
   "metadata": {},
   "outputs": [],
   "source": []
  },
  {
   "cell_type": "code",
   "execution_count": 585,
   "metadata": {},
   "outputs": [],
   "source": [
    "#Separar los datos en 2 datasets\n",
    "from sklearn.model_selection import train_test_split\n",
    "\n",
    "def ValidacionPrueba(self, test_size):\n",
    "    A = self.data['SalePrice'].values.reshape(-1, 1)\n",
    "    B = self.data.iloc[:, 1:6].values\n",
    "    self.dataTrain, self.dataTest, self.dataTrain_SaleP, self.dataTest_SaleP = train_test_split(X, Y, est_size = test_size, shuffle=True, random_state=123)\n",
    "\n",
    "#Crear un Objeto relacionado con la Clase\n",
    "#objeto. nombre de la clase. nombre del atributo\n",
    "#modelo = regresion(X, Y)\n",
    "\n",
    "#objeto. nombre de la clase. nombre del atributo\n",
    "#modelo = regression.from_file(proy)\n",
    "#print(modelo.ValidacionPrueba(0.20))\n"
   ]
  },
  {
   "cell_type": "code",
   "execution_count": null,
   "metadata": {},
   "outputs": [],
   "source": [
    "#Paso No.4 Histogramas\n",
    "\n",
    "def histogram(self, plot):\n",
    "    \n",
    "        sns.histplot(data = data_proy[\"TotRmsAbvGrd\"], x = data_proy[\"TotRmsAbvGrd\"], kde=True)\n",
    "       \n",
    "         \n",
    "#Crear un Objeto relacionado con la Clase\n",
    "#objeto. nombre de la clase. nombre del atributo\n",
    "modelo = regression.from_file(proy)\n",
    "print(modelo.histogram())\n"
   ]
  },
  {
   "cell_type": "code",
   "execution_count": 588,
   "metadata": {},
   "outputs": [],
   "source": [
    "# Predicciones\n",
    "def predict(self, input_value):\n",
    "    if input_value == None:\n",
    "        result = self.linealmodel.fit(self.dataTest)\n",
    "    else:\n",
    "        result = self.linealmodel.fit(np.array([input_values]))\n",
    "    return result"
   ]
  },
  {
   "cell_type": "code",
   "execution_count": null,
   "metadata": {},
   "outputs": [],
   "source": []
  },
  {
   "cell_type": "code",
   "execution_count": null,
   "metadata": {},
   "outputs": [],
   "source": []
  },
  {
   "cell_type": "code",
   "execution_count": null,
   "metadata": {},
   "outputs": [],
   "source": []
  },
  {
   "cell_type": "code",
   "execution_count": null,
   "metadata": {},
   "outputs": [],
   "source": []
  },
  {
   "cell_type": "code",
   "execution_count": null,
   "metadata": {},
   "outputs": [],
   "source": []
  },
  {
   "cell_type": "code",
   "execution_count": null,
   "metadata": {},
   "outputs": [],
   "source": []
  },
  {
   "cell_type": "code",
   "execution_count": null,
   "metadata": {},
   "outputs": [],
   "source": []
  },
  {
   "cell_type": "code",
   "execution_count": null,
   "metadata": {},
   "outputs": [],
   "source": []
  },
  {
   "cell_type": "code",
   "execution_count": null,
   "metadata": {},
   "outputs": [],
   "source": []
  },
  {
   "cell_type": "code",
   "execution_count": null,
   "metadata": {},
   "outputs": [],
   "source": []
  },
  {
   "cell_type": "code",
   "execution_count": null,
   "metadata": {},
   "outputs": [],
   "source": []
  },
  {
   "cell_type": "code",
   "execution_count": null,
   "metadata": {},
   "outputs": [],
   "source": []
  },
  {
   "cell_type": "code",
   "execution_count": null,
   "metadata": {},
   "outputs": [],
   "source": []
  },
  {
   "cell_type": "code",
   "execution_count": null,
   "metadata": {},
   "outputs": [],
   "source": []
  },
  {
   "cell_type": "code",
   "execution_count": null,
   "metadata": {},
   "outputs": [],
   "source": []
  },
  {
   "cell_type": "code",
   "execution_count": null,
   "metadata": {},
   "outputs": [],
   "source": []
  },
  {
   "cell_type": "code",
   "execution_count": null,
   "metadata": {},
   "outputs": [],
   "source": []
  },
  {
   "cell_type": "code",
   "execution_count": null,
   "metadata": {},
   "outputs": [],
   "source": []
  },
  {
   "cell_type": "code",
   "execution_count": null,
   "metadata": {},
   "outputs": [],
   "source": []
  },
  {
   "cell_type": "code",
   "execution_count": null,
   "metadata": {},
   "outputs": [],
   "source": []
  },
  {
   "cell_type": "code",
   "execution_count": null,
   "metadata": {},
   "outputs": [],
   "source": []
  },
  {
   "cell_type": "code",
   "execution_count": null,
   "metadata": {},
   "outputs": [],
   "source": []
  },
  {
   "cell_type": "code",
   "execution_count": null,
   "metadata": {},
   "outputs": [],
   "source": []
  },
  {
   "cell_type": "code",
   "execution_count": null,
   "metadata": {},
   "outputs": [],
   "source": []
  },
  {
   "cell_type": "code",
   "execution_count": null,
   "metadata": {},
   "outputs": [],
   "source": []
  },
  {
   "cell_type": "code",
   "execution_count": null,
   "metadata": {},
   "outputs": [],
   "source": []
  },
  {
   "cell_type": "code",
   "execution_count": null,
   "metadata": {},
   "outputs": [],
   "source": []
  },
  {
   "cell_type": "code",
   "execution_count": null,
   "metadata": {},
   "outputs": [],
   "source": []
  },
  {
   "cell_type": "code",
   "execution_count": null,
   "metadata": {},
   "outputs": [],
   "source": []
  },
  {
   "cell_type": "code",
   "execution_count": null,
   "metadata": {},
   "outputs": [],
   "source": []
  },
  {
   "cell_type": "code",
   "execution_count": null,
   "metadata": {},
   "outputs": [],
   "source": []
  }
 ],
 "metadata": {
  "kernelspec": {
   "display_name": "Python 3",
   "language": "python",
   "name": "python3"
  },
  "language_info": {
   "codemirror_mode": {
    "name": "ipython",
    "version": 3
   },
   "file_extension": ".py",
   "mimetype": "text/x-python",
   "name": "python",
   "nbconvert_exporter": "python",
   "pygments_lexer": "ipython3",
   "version": "3.8.5"
  }
 },
 "nbformat": 4,
 "nbformat_minor": 4
}
